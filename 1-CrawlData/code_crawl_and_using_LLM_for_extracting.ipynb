{
 "cells": [
  {
   "cell_type": "markdown",
   "metadata": {},
   "source": [
    "# **Nội dung file**\n",
    "- **Quá trình Crawl Data**\n",
    "- **Quá trình dùng LLM để trích xuất dữ liệu**\n",
    "- **Quá trình ETL**"
   ]
  },
  {
   "cell_type": "markdown",
   "metadata": {},
   "source": [
    "# **Crawl Data**"
   ]
  },
  {
   "cell_type": "markdown",
   "metadata": {},
   "source": [
    "1. [Sơ lược về cấu trúc trang web phục vụ cho quá trình Crawl Data](#1)      \n",
    "1. [Mục tiêu](#2) \n",
    "    1. [Mục tiêu chung](#3)\n",
    "    1. [Mục tiêu của dữ liệu được crawl](#4)\n",
    "1. [Kế hoạch thực hiện](#5) \n",
    "    1. [Cách thức thực hiện](#6)\n",
    "    1. [Các công cụ thực hiện](#7)\n",
    "1. [Quá trình thực hiện](#8)     \n",
    "    1. [Tạo danh sách url dẫn đến kết quả tìm kiếm](#9) \n",
    "    1. [Sử dụng thư viện Selenium trích xuất các đường dẫn trên](#10)\n",
    "    1. [Lấy dữ liệu từ các bài đăng chi tiết bằng BeautifulSoup](#11)   \n",
    "1. [Kết quả](#12)     \n"
   ]
  },
  {
   "cell_type": "markdown",
   "metadata": {},
   "source": [
    "## **Phần 1: Sơ lược về cấu trúc trang web phục vụ cho quá trình Craw Data** <a id=\"1\"></a> "
   ]
  },
  {
   "cell_type": "markdown",
   "metadata": {},
   "source": [
    " <div style=\"text-align: center;\">\n",
    "    <img src=\"https://github.com/KhiemDangLe/Final-Project/blob/main/image/image_for_craw_data/vi_du_mot_bai_dang.png?raw=true\" width=\"700\"/>\n",
    "</div>"
   ]
  },
  {
   "cell_type": "markdown",
   "metadata": {},
   "source": [
    "Trang web là trang web tĩnh, các class ít thay đổi, số trang và ngày đăng rõ ràng chi tiết."
   ]
  },
  {
   "cell_type": "markdown",
   "metadata": {},
   "source": [
    "## **Phần 2: Mục tiêu** <a id=\"2\"></a> \n"
   ]
  },
  {
   "cell_type": "markdown",
   "metadata": {},
   "source": [
    "### **Mục tiêu chung**\n",
    "<a id=\"3\"></a> \n",
    "- Hiểu được cấu trúc thành phần HTML, và payload  của website https://batdongsan.vn/.\n",
    "- Nêu ra được mục tiêu của dữ liệu crawl và đưa ra được dạng chuẩn mẫu của các feature crawl.\n",
    "- Tiến hành thử nghiệm một số phương pháp crawl đánh giá và so sánh và ra quyết định sử dụng phương pháp."
   ]
  },
  {
   "cell_type": "markdown",
   "metadata": {},
   "source": [
    "### **Mục tiêu của dữ liệu crawl** <a id=\"4\"></a> "
   ]
  },
  {
   "cell_type": "markdown",
   "metadata": {},
   "source": [
    "* Dữ liệu được cào sẽ được để nguyên bản và ít được xử lí. \\\n",
    "* Chỉ lấy các dữ liệu về Bất động sản ở Hồ Chí Minh. \\\n",
    "* Dữ liệu đầu ra sẽ gồm các feature chính sẽ bao gồm các cột chứa nội dung mặc định trong cột đăng bất động sản. \\\n",
    "\n",
    "Đề xuất các dữ liệu sẽ được crawl. Sẽ gồm các cột:\n",
    "- **title**: Chứa tiêu đề bài đăng\n",
    "- **article_id**: Là mã định danh của bài đăng\n",
    "- **category**: Phân loại bất động sản\n",
    "- **phone**: Số điện thoại người bán\n",
    "- **district**: Xác định ngôi nhà được bán nằm ở quận nào.\n",
    "- **date_posted**: Ngày ngôi nhà được đăng bán.\n",
    "- **price**: Là giá mà người đăng niêm yết.\n",
    "- **area**: Là diện tích của căn nhà.\n",
    "- **bedroom**: Số lượng phòng ngủ trong căn nhà.\n",
    "- **wc**: Số lượng nhà vệ sinh trong căn nhà.\n",
    "- **direction**: Phương hướng của căn nhà.\n",
    "- **balcony_direction**: Hướng của ban công căn nhà.\n",
    "- **description**: Mô tả của người đăng về căn nhà."
   ]
  },
  {
   "cell_type": "markdown",
   "metadata": {},
   "source": [
    "## **Phần 3: Kế hoạch thực hiện** <a id=\"5\"></a> \n"
   ]
  },
  {
   "cell_type": "markdown",
   "metadata": {},
   "source": [
    "Ở trang kết quả trả về, sẽ có đường dẫn tới các bằng đăng chi tiết. Tại đó, chứa các thông tin quan trọng như: Thông tin người bán, Giá tiền, diện tích, mô tả,... \n",
    "\n",
    "\n",
    "Trên trang web batdongsan.com.vn, ta có thể dễ dàng tìm thấy các danh sách các bài viết về các bất động sản theo các trường phân loại khác nhau. Kết quả tìm kiếm được trả về dưới dạng danh sách, chia thành các page. Đường dẫn đến các page kết quả có cấu trúc như sau: \n",
    "\n",
    "\n",
    "**https://batdongsan.vn/[các thuộc tính để lọc]/[số trang kết quả trả về]** \\\n",
    "*Ví dụ: https://batdongsan.vn/ban-nha-mat-pho-ho-chi-minh-duoi-500-trieu/p3* \\\n",
    "\\\n",
    "Do đó, ta có thể dựa vào đường dẫn để tìm kiếm tất cả các bài viết cần quan tâm. \n"
   ]
  },
  {
   "cell_type": "markdown",
   "metadata": {},
   "source": [
    "<div style=\"text-align: center;\">\n",
    "    <img src=\"https://github.com/KhiemDangLe/Final-Project/blob/main/image/image_for_craw_data/thanh_tim_kiem_batdongsanvn.png?raw=true\" width=\"700\"/>\n",
    "    <img src=\"https://github.com/KhiemDangLe/Final-Project/blob/main/image/image_for_craw_data/thay_doi_giua_cac_trang_ket_qua.png?raw=true\" width=\"700\"/>\n",
    "</div>"
   ]
  },
  {
   "cell_type": "markdown",
   "metadata": {},
   "source": [
    "##### **Cách thức thực hiện** <a id=\"6\"></a> \n"
   ]
  },
  {
   "cell_type": "markdown",
   "metadata": {},
   "source": [
    "* *Quá trình 1*: Dựa vào cấu trúc đường dẫn của kết quả tìm kiếm, lấy tất cả các đường dẫn của những bài đăng cần quan tâm\n",
    "* *Quá trình 2*: Sau khi đã có tất cả các đường dẫn cần thiết, lần lượt lấy các thông tin quan trọng của từng bài viết\n",
    "\n",
    "**Giải thích:**\n",
    "* Với cách thực hiện như vậy (tạm gọi: cách 1), các bước là độc lập với nhau so với cách thực hiện (tạm gọi: cách 2): craw đường dẫn của 1 bài dựa trên trang kết quả tìm kiếm, craw thông tin chi tiết của bài đăng ấy. Giả sử, sau khi đã craw được tất cả các thông tin chi tiết, ta cần craw thêm một thông tin khác như Số điện thoại người bán. Ta chỉ cần thực hiện lại Quá trình 2, mà không cần thực hiện lại Quá trình 1. Trong khi đó, nếu sử dụng cách 2, bắt buộc phải thực hiện 2 quá trình.\n",
    "* Đối với, mục nội dung tin đăng, ta sẽ lưu thành một thuộc tính. Ở những bước sau trong Project, ta sử dụng mô hình LLM để có thể trích xuất thêm các thuộc tính quan trọng\n",
    "\n"
   ]
  },
  {
   "cell_type": "markdown",
   "metadata": {},
   "source": [
    "#### **Công cụ thực hiện** <a id=\"7\"></a> "
   ]
  },
  {
   "cell_type": "markdown",
   "metadata": {},
   "source": [
    "Nhóm sử dụng cả 2 công cụ Selenim và Beautiful Soup để craw data. Sau khi hoàn thành, nhóm sẽ có thể đưa ra nhận định đơn giản, so sánh về 2 công cụ này."
   ]
  },
  {
   "cell_type": "markdown",
   "metadata": {},
   "source": [
    "## **Phần 4: Quá trình thực hiện** <a id=\"8\"></a> "
   ]
  },
  {
   "cell_type": "markdown",
   "metadata": {},
   "source": [
    "Tóm tắt quả trình thực hiện \n",
    "- Tạo danh sách kết quả tìm kiếm.\n",
    "- cài đặt công cụ tiến hành implement code.\n",
    "- Tiến hành phân tích HTML lấy ra từng link html trong một page.\n",
    "- Lưu tất cả các đường link vào trong file .\n",
    "- Sử dụng file lưu đường dẫn cụ thể của từng bất động sản.\n",
    "- Crawl và phân tích html để đưa ra các thông tin cần thiết."
   ]
  },
  {
   "cell_type": "markdown",
   "metadata": {},
   "source": [
    "#### **Tạo danh sách url dẫn đến danh sách kết quả tìm kiếm** <a id=\"9\"></a> "
   ]
  },
  {
   "cell_type": "markdown",
   "metadata": {},
   "source": [
    "Có tổng cộng 604 page"
   ]
  },
  {
   "cell_type": "code",
   "execution_count": 19,
   "metadata": {},
   "outputs": [],
   "source": [
    "url_list = ['https://batdongsan.vn/ban-nha-dat-ho-chi-minh']\n",
    "for i in range(2, 604):\n",
    "    url_list.append('https://batdongsan.vn/ban-nha-dat-ho-chi-minh/p' + str(i))"
   ]
  },
  {
   "cell_type": "markdown",
   "metadata": {},
   "source": [
    "#### **Sử dụng thư viện Selenium trích xuất các đường dẫn đến các bài đăng chi tiết** <a id=\"10\"></a> "
   ]
  },
  {
   "cell_type": "markdown",
   "metadata": {},
   "source": [
    "Để cài đặt selenium cho Google Colab, sử dụng địa chị này: https://medium.com/@MinatoNamikaze02/running-selenium-on-google-colab-a118d10ca5f8"
   ]
  },
  {
   "cell_type": "code",
   "execution_count": 20,
   "metadata": {},
   "outputs": [
    {
     "name": "stderr",
     "output_type": "stream",
     "text": [
      "UsageError: Cell magic `%%shell` not found.\n"
     ]
    }
   ],
   "source": [
    "%%shell\n",
    "sudo apt -y update\n",
    "sudo apt install -y wget curl unzip\n",
    "wget http://archive.ubuntu.com/ubuntu/pool/main/libu/libu2f-host/libu2f-udev_1.1.4-1_all.deb\n",
    "dpkg -i libu2f-udev_1.1.4-1_all.deb\n",
    "wget https://dl.google.com/linux/direct/google-chrome-stable_current_amd64.deb\n",
    "dpkg -i google-chrome-stable_current_amd64.deb\n",
    "\n",
    "wget -N https://edgedl.me.gvt1.com/edgedl/chrome/chrome-for-testing/118.0.5993.70/linux64/chromedriver-linux64.zip -P /tmp/\n",
    "unzip -o /tmp/chromedriver-linux64.zip -d /tmp/\n",
    "chmod +x /tmp/chromedriver-linux64/chromedriver\n",
    "mv /tmp/chromedriver-linux64/chromedriver /usr/local/bin/chromedriver\n",
    "pip install selenium chromedriver_autoinstaller\n",
    "\n",
    "import sys\n",
    "sys.path.insert(0,'/usr/lib/chromium-browser/chromedriver')\n",
    "\n",
    "from selenium import webdriver\n",
    "import chromedriver_autoinstaller\n",
    "\n",
    "chrome_options = webdriver.ChromeOptions()\n",
    "chrome_options.add_argument('--headless')\n",
    "chrome_options.add_argument('--no-sandbox')\n",
    "chrome_options.add_argument('--disable-dev-shm-usage')\n",
    "chromedriver_autoinstaller.install()\n"
   ]
  },
  {
   "cell_type": "code",
   "execution_count": null,
   "metadata": {},
   "outputs": [],
   "source": [
    "from selenium import webdriver\n",
    "from selenium.webdriver.common.by import By\n",
    "import pandas as pd"
   ]
  },
  {
   "cell_type": "code",
   "execution_count": null,
   "metadata": {},
   "outputs": [],
   "source": [
    "def get_data(driver, url):\n",
    "    raw_data = pd.DataFrame(columns=['title', 'price', 'area', 'time', 'page_link'])\n",
    "    driver.get(url)\n",
    "    list = driver.find_elements(By.XPATH, \"//div[@class='uk-grid uk-grid-small uk-grid-width-1-1']/div\")\n",
    "\n",
    "    for item in list:\n",
    "        # Lay title, neu khong co thi set bang None\n",
    "        try:\n",
    "            title = item.find_element(By.XPATH, \".//div[@class='name']\").text\n",
    "        except:\n",
    "            title = None\n",
    "        # Lay link, neu khong co thi set bang None\n",
    "        try:\n",
    "            page_link = item.find_element(By.XPATH, \".//div[@class='name']/a\").get_attribute('href')\n",
    "        except:\n",
    "            page_link = None\n",
    "\n",
    "        # Lay gia, neu khong co thi set bang None\n",
    "        try:\n",
    "            price = item.find_element(By.XPATH, \".//span[@class='price']\").text\n",
    "        except:\n",
    "            price = None\n",
    "\n",
    "        # Lay dien tich, neu khong co thi set bang None\n",
    "        try:\n",
    "            area = item.find_element(By.XPATH, \".//span[@class='acreage']\").text\n",
    "        except:\n",
    "            area = None\n",
    "\n",
    "        # Lay thoi gian dang tin, neu khong co thi set bang None\n",
    "        try:\n",
    "            time = item.find_element(By.XPATH, \".//time[@class='timeago']\").get_attribute('datetime')\n",
    "        except:\n",
    "            time = None\n",
    "        raw_data = raw_data._append({'title': title, 'price': price, 'area': area, 'time': time, 'page_link': page_link}, ignore_index=True)\n",
    "    return raw_data"
   ]
  },
  {
   "cell_type": "code",
   "execution_count": null,
   "metadata": {},
   "outputs": [],
   "source": [
    "\n",
    "# Tao dataframe chua du lieu\n",
    "raw_data = pd.DataFrame(columns=['title', 'price', 'area', 'time', 'page_link'])\n",
    "\n",
    "# Neu chay tren local thi dung dong nay\n",
    "#driver = webdriver.Chrome()\n",
    "\n",
    "# Neu chay collab thi dung dong nay\n",
    "#driver = webdriver.Chrome(options=chrome_options)\n",
    "\n",
    "for url in url_list:\n",
    "    raw_data = raw_data._append(get_data(driver, url), ignore_index=True)\n",
    "driver.quit()"
   ]
  },
  {
   "cell_type": "code",
   "execution_count": null,
   "metadata": {},
   "outputs": [],
   "source": [
    "# Luu file ra local\n",
    "raw_data.to_csv('raw_data.csv', index=False)\n",
    "\n",
    "# Luu file khi chay tren collab\n",
    "#from google.colab import drive\n",
    "#drive.mount('/content/drive')\n",
    "#raw_data.to_csv('/content/drive/My Drive/raw_data_p201_p604.csv', index=False)"
   ]
  },
  {
   "cell_type": "code",
   "execution_count": null,
   "metadata": {},
   "outputs": [
    {
     "data": {
      "text/html": [
       "<div>\n",
       "<style scoped>\n",
       "    .dataframe tbody tr th:only-of-type {\n",
       "        vertical-align: middle;\n",
       "    }\n",
       "\n",
       "    .dataframe tbody tr th {\n",
       "        vertical-align: top;\n",
       "    }\n",
       "\n",
       "    .dataframe thead th {\n",
       "        text-align: right;\n",
       "    }\n",
       "</style>\n",
       "<table border=\"1\" class=\"dataframe\">\n",
       "  <thead>\n",
       "    <tr style=\"text-align: right;\">\n",
       "      <th></th>\n",
       "      <th>title</th>\n",
       "      <th>price</th>\n",
       "      <th>area</th>\n",
       "      <th>time</th>\n",
       "      <th>page_link</th>\n",
       "    </tr>\n",
       "  </thead>\n",
       "  <tbody>\n",
       "    <tr>\n",
       "      <th>0</th>\n",
       "      <td>Chưa tới 30tr/m2 - Hàng ngộp bank BAO ĐẦU TƯ ...</td>\n",
       "      <td>3899000000 tỷ</td>\n",
       "      <td>150m2</td>\n",
       "      <td>2023-12-10 17:11:02</td>\n",
       "      <td>https://batdongsan.vn/chua-toi-30trm2-hang-ngo...</td>\n",
       "    </tr>\n",
       "    <tr>\n",
       "      <th>1</th>\n",
       "      <td>Bán nhà HXH Âu Cơ Phường 9 Tân Bình, 51m2 3 Tầ...</td>\n",
       "      <td>5.5 tỷ</td>\n",
       "      <td>51m2</td>\n",
       "      <td>2023-12-10 18:40:26</td>\n",
       "      <td>https://batdongsan.vn/ban-nha-hxh-au-co-phuong...</td>\n",
       "    </tr>\n",
       "    <tr>\n",
       "      <th>2</th>\n",
       "      <td>SÁT MẶT TIỀN PHAN ĐĂNG LƯU, PHƯỜNG 7, PHÚ NHUẬ...</td>\n",
       "      <td>4.6 tỷ</td>\n",
       "      <td>45m2</td>\n",
       "      <td>2023-12-10 18:56:17</td>\n",
       "      <td>https://batdongsan.vn/sat-mat-tien-phan-dang-l...</td>\n",
       "    </tr>\n",
       "    <tr>\n",
       "      <th>3</th>\n",
       "      <td>CHỦ GẤP BÁN TRƯỚC TẾT LÊ HỒNG PHONG QUẬN 5 RA ...</td>\n",
       "      <td>7.35 tỷ</td>\n",
       "      <td>41m2</td>\n",
       "      <td>2023-12-10 20:49:28</td>\n",
       "      <td>https://batdongsan.vn/chu-gap-ban-truoc-tet-le...</td>\n",
       "    </tr>\n",
       "    <tr>\n",
       "      <th>4</th>\n",
       "      <td>LŨY BÁN BÍCH,TÂN PHÚ-DIỆN TÍCH KHỦNG 96M2 ( 4....</td>\n",
       "      <td>Thỏa thuận</td>\n",
       "      <td>96m2</td>\n",
       "      <td>2023-12-07 14:13:40</td>\n",
       "      <td>https://batdongsan.vn/luy-ban-bichtan-phu-dien...</td>\n",
       "    </tr>\n",
       "  </tbody>\n",
       "</table>\n",
       "</div>"
      ],
      "text/plain": [
       "                                               title          price   area  \\\n",
       "0  Chưa tới 30tr/m2 - Hàng ngộp bank BAO ĐẦU TƯ ...  3899000000 tỷ  150m2   \n",
       "1  Bán nhà HXH Âu Cơ Phường 9 Tân Bình, 51m2 3 Tầ...         5.5 tỷ   51m2   \n",
       "2  SÁT MẶT TIỀN PHAN ĐĂNG LƯU, PHƯỜNG 7, PHÚ NHUẬ...         4.6 tỷ   45m2   \n",
       "3  CHỦ GẤP BÁN TRƯỚC TẾT LÊ HỒNG PHONG QUẬN 5 RA ...        7.35 tỷ   41m2   \n",
       "4  LŨY BÁN BÍCH,TÂN PHÚ-DIỆN TÍCH KHỦNG 96M2 ( 4....     Thỏa thuận   96m2   \n",
       "\n",
       "                  time                                          page_link  \n",
       "0  2023-12-10 17:11:02  https://batdongsan.vn/chua-toi-30trm2-hang-ngo...  \n",
       "1  2023-12-10 18:40:26  https://batdongsan.vn/ban-nha-hxh-au-co-phuong...  \n",
       "2  2023-12-10 18:56:17  https://batdongsan.vn/sat-mat-tien-phan-dang-l...  \n",
       "3  2023-12-10 20:49:28  https://batdongsan.vn/chu-gap-ban-truoc-tet-le...  \n",
       "4  2023-12-07 14:13:40  https://batdongsan.vn/luy-ban-bichtan-phu-dien...  "
      ]
     },
     "execution_count": 32,
     "metadata": {},
     "output_type": "execute_result"
    }
   ],
   "source": [
    "raw_data.head()"
   ]
  },
  {
   "cell_type": "markdown",
   "metadata": {},
   "source": [
    "Kết quả được lưu ở đường dẫn sau: https://raw.githubusercontent.com/KhiemDangLe/Final-Project/main/CrawData/grid_list_raw_data.csv"
   ]
  },
  {
   "cell_type": "markdown",
   "metadata": {},
   "source": [
    "**Nhận xét khi sử dụng Selenium:** \\\n",
    "Tuy nhiên, thư viện Selenium tiêu tốn tài nguyên hơn và thời gian chạy lâu hơn so với sử dụng thư viện request và bs4"
   ]
  },
  {
   "cell_type": "markdown",
   "metadata": {},
   "source": [
    "#### **Lấy dữ liệu từ các bài đăng chi tiết bằng BS4** <a id=\"11\"></a> "
   ]
  },
  {
   "cell_type": "code",
   "execution_count": null,
   "metadata": {},
   "outputs": [],
   "source": [
    "import pandas as pd\n",
    "raw_data = pd.read_csv('https://raw.githubusercontent.com/KhiemDangLe/Final-Project/main/grid_list_raw_data.csv', header=0)"
   ]
  },
  {
   "cell_type": "code",
   "execution_count": null,
   "metadata": {},
   "outputs": [
    {
     "data": {
      "text/html": [
       "<div>\n",
       "<style scoped>\n",
       "    .dataframe tbody tr th:only-of-type {\n",
       "        vertical-align: middle;\n",
       "    }\n",
       "\n",
       "    .dataframe tbody tr th {\n",
       "        vertical-align: top;\n",
       "    }\n",
       "\n",
       "    .dataframe thead th {\n",
       "        text-align: right;\n",
       "    }\n",
       "</style>\n",
       "<table border=\"1\" class=\"dataframe\">\n",
       "  <thead>\n",
       "    <tr style=\"text-align: right;\">\n",
       "      <th></th>\n",
       "      <th>title</th>\n",
       "      <th>price</th>\n",
       "      <th>area</th>\n",
       "      <th>time</th>\n",
       "      <th>page_link</th>\n",
       "    </tr>\n",
       "  </thead>\n",
       "  <tbody>\n",
       "    <tr>\n",
       "      <th>0</th>\n",
       "      <td>Chưa tới 30tr/m2 - Hàng ngộp bank BAO ĐẦU TƯ ...</td>\n",
       "      <td>3899000000 tỷ</td>\n",
       "      <td>150m2</td>\n",
       "      <td>2023-12-10 17:11:02</td>\n",
       "      <td>https://batdongsan.vn/chua-toi-30trm2-hang-ngo...</td>\n",
       "    </tr>\n",
       "    <tr>\n",
       "      <th>1</th>\n",
       "      <td>Bán nhà HXH Âu Cơ Phường 9 Tân Bình, 51m2 3 Tầ...</td>\n",
       "      <td>5.5 tỷ</td>\n",
       "      <td>51m2</td>\n",
       "      <td>2023-12-10 18:40:26</td>\n",
       "      <td>https://batdongsan.vn/ban-nha-hxh-au-co-phuong...</td>\n",
       "    </tr>\n",
       "    <tr>\n",
       "      <th>2</th>\n",
       "      <td>SÁT MẶT TIỀN PHAN ĐĂNG LƯU, PHƯỜNG 7, PHÚ NHUẬ...</td>\n",
       "      <td>4.6 tỷ</td>\n",
       "      <td>45m2</td>\n",
       "      <td>2023-12-10 18:56:17</td>\n",
       "      <td>https://batdongsan.vn/sat-mat-tien-phan-dang-l...</td>\n",
       "    </tr>\n",
       "    <tr>\n",
       "      <th>3</th>\n",
       "      <td>CHỦ GẤP BÁN TRƯỚC TẾT LÊ HỒNG PHONG QUẬN 5 RA ...</td>\n",
       "      <td>7.35 tỷ</td>\n",
       "      <td>41m2</td>\n",
       "      <td>2023-12-10 20:49:28</td>\n",
       "      <td>https://batdongsan.vn/chu-gap-ban-truoc-tet-le...</td>\n",
       "    </tr>\n",
       "    <tr>\n",
       "      <th>4</th>\n",
       "      <td>LŨY BÁN BÍCH,TÂN PHÚ-DIỆN TÍCH KHỦNG 96M2 ( 4....</td>\n",
       "      <td>Thỏa thuận</td>\n",
       "      <td>96m2</td>\n",
       "      <td>2023-12-07 14:13:40</td>\n",
       "      <td>https://batdongsan.vn/luy-ban-bichtan-phu-dien...</td>\n",
       "    </tr>\n",
       "  </tbody>\n",
       "</table>\n",
       "</div>"
      ],
      "text/plain": [
       "                                               title          price   area  \\\n",
       "0  Chưa tới 30tr/m2 - Hàng ngộp bank BAO ĐẦU TƯ ...  3899000000 tỷ  150m2   \n",
       "1  Bán nhà HXH Âu Cơ Phường 9 Tân Bình, 51m2 3 Tầ...         5.5 tỷ   51m2   \n",
       "2  SÁT MẶT TIỀN PHAN ĐĂNG LƯU, PHƯỜNG 7, PHÚ NHUẬ...         4.6 tỷ   45m2   \n",
       "3  CHỦ GẤP BÁN TRƯỚC TẾT LÊ HỒNG PHONG QUẬN 5 RA ...        7.35 tỷ   41m2   \n",
       "4  LŨY BÁN BÍCH,TÂN PHÚ-DIỆN TÍCH KHỦNG 96M2 ( 4....     Thỏa thuận   96m2   \n",
       "\n",
       "                  time                                          page_link  \n",
       "0  2023-12-10 17:11:02  https://batdongsan.vn/chua-toi-30trm2-hang-ngo...  \n",
       "1  2023-12-10 18:40:26  https://batdongsan.vn/ban-nha-hxh-au-co-phuong...  \n",
       "2  2023-12-10 18:56:17  https://batdongsan.vn/sat-mat-tien-phan-dang-l...  \n",
       "3  2023-12-10 20:49:28  https://batdongsan.vn/chu-gap-ban-truoc-tet-le...  \n",
       "4  2023-12-07 14:13:40  https://batdongsan.vn/luy-ban-bichtan-phu-dien...  "
      ]
     },
     "execution_count": 39,
     "metadata": {},
     "output_type": "execute_result"
    }
   ],
   "source": [
    "raw_data.head()"
   ]
  },
  {
   "cell_type": "markdown",
   "metadata": {},
   "source": [
    "Một trong những nguyên nhân làm chậm quá trình lấy dữ liêu khi sử dụng BS4 là tốc độ parsing. Để tối ưu, theo hướng dẫn từ documentation của BS4 ta sẽ sử dụng 2 thư viện là lxml và cchardet (tham khảo: https://beautiful-soup-4.readthedocs.io/en/latest/#improving-performance). Đồng thời, chúng ta sẽ sử dụng dụng đa luồng đẻ tăng tốc độ craw data."
   ]
  },
  {
   "cell_type": "code",
   "execution_count": null,
   "metadata": {},
   "outputs": [
    {
     "name": "stdout",
     "output_type": "stream",
     "text": [
      "Requirement already satisfied: lxml in c:\\users\\likgn\\onedrive - vnu-hcmus\\qua trinh hoc tap\\nam2\\kiii\\th_nmkhdl\\final-project-dsk22\\.venv\\lib\\site-packages (5.2.2)\n",
      "Collecting pyproject-toml\n",
      "  Downloading pyproject_toml-0.0.10-py3-none-any.whl.metadata (642 bytes)\n",
      "Requirement already satisfied: setuptools>=42 in c:\\users\\likgn\\onedrive - vnu-hcmus\\qua trinh hoc tap\\nam2\\kiii\\th_nmkhdl\\final-project-dsk22\\.venv\\lib\\site-packages (from pyproject-toml) (65.5.0)\n",
      "Collecting wheel (from pyproject-toml)\n",
      "  Using cached wheel-0.43.0-py3-none-any.whl.metadata (2.2 kB)\n",
      "Collecting toml (from pyproject-toml)\n",
      "  Downloading toml-0.10.2-py2.py3-none-any.whl.metadata (7.1 kB)\n",
      "Collecting jsonschema (from pyproject-toml)\n",
      "  Downloading jsonschema-4.22.0-py3-none-any.whl.metadata (8.2 kB)\n",
      "Requirement already satisfied: attrs>=22.2.0 in c:\\users\\likgn\\onedrive - vnu-hcmus\\qua trinh hoc tap\\nam2\\kiii\\th_nmkhdl\\final-project-dsk22\\.venv\\lib\\site-packages (from jsonschema->pyproject-toml) (23.2.0)\n",
      "Collecting jsonschema-specifications>=2023.03.6 (from jsonschema->pyproject-toml)\n",
      "  Using cached jsonschema_specifications-2023.12.1-py3-none-any.whl.metadata (3.0 kB)\n",
      "Collecting referencing>=0.28.4 (from jsonschema->pyproject-toml)\n",
      "  Downloading referencing-0.35.1-py3-none-any.whl.metadata (2.8 kB)\n",
      "Collecting rpds-py>=0.7.1 (from jsonschema->pyproject-toml)\n",
      "  Downloading rpds_py-0.18.1-cp311-none-win_amd64.whl.metadata (4.2 kB)\n",
      "Downloading pyproject_toml-0.0.10-py3-none-any.whl (6.9 kB)\n",
      "Downloading jsonschema-4.22.0-py3-none-any.whl (88 kB)\n",
      "   ---------------------------------------- 0.0/88.3 kB ? eta -:--:--\n",
      "   ------------------ --------------------- 41.0/88.3 kB 991.0 kB/s eta 0:00:01\n",
      "   ------------------ --------------------- 41.0/88.3 kB 991.0 kB/s eta 0:00:01\n",
      "   ------------------ --------------------- 41.0/88.3 kB 991.0 kB/s eta 0:00:01\n",
      "   ---------------------------------------- 88.3/88.3 kB 500.5 kB/s eta 0:00:00\n",
      "Downloading toml-0.10.2-py2.py3-none-any.whl (16 kB)\n",
      "Using cached wheel-0.43.0-py3-none-any.whl (65 kB)\n",
      "Using cached jsonschema_specifications-2023.12.1-py3-none-any.whl (18 kB)\n",
      "Downloading referencing-0.35.1-py3-none-any.whl (26 kB)\n",
      "Downloading rpds_py-0.18.1-cp311-none-win_amd64.whl (209 kB)\n",
      "   ---------------------------------------- 0.0/209.0 kB ? eta -:--:--\n",
      "   ----------------- ---------------------- 92.2/209.0 kB 1.8 MB/s eta 0:00:01\n",
      "   ---------------------------------------- 209.0/209.0 kB 2.1 MB/s eta 0:00:00\n",
      "Installing collected packages: wheel, toml, rpds-py, referencing, jsonschema-specifications, jsonschema, pyproject-toml\n",
      "Successfully installed jsonschema-4.22.0 jsonschema-specifications-2023.12.1 pyproject-toml-0.0.10 referencing-0.35.1 rpds-py-0.18.1 toml-0.10.2 wheel-0.43.0\n",
      "Collecting cchardet\n",
      "  Using cached cchardet-2.1.7.tar.gz (653 kB)\n",
      "  Preparing metadata (setup.py): started\n",
      "  Preparing metadata (setup.py): finished with status 'done'\n",
      "Building wheels for collected packages: cchardet\n",
      "  Building wheel for cchardet (setup.py): started\n",
      "  Building wheel for cchardet (setup.py): finished with status 'error'\n",
      "  Running setup.py clean for cchardet\n",
      "Failed to build cchardet\n"
     ]
    },
    {
     "name": "stderr",
     "output_type": "stream",
     "text": [
      "  error: subprocess-exited-with-error\n",
      "  \n",
      "  × python setup.py bdist_wheel did not run successfully.\n",
      "  │ exit code: 1\n",
      "  ╰─> [22 lines of output]\n",
      "      running bdist_wheel\n",
      "      running build\n",
      "      running build_py\n",
      "      creating build\n",
      "      creating build\\lib.win-amd64-cpython-311\n",
      "      creating build\\lib.win-amd64-cpython-311\\cchardet\n",
      "      copying src\\cchardet\\version.py -> build\\lib.win-amd64-cpython-311\\cchardet\n",
      "      copying src\\cchardet\\__init__.py -> build\\lib.win-amd64-cpython-311\\cchardet\n",
      "      running build_ext\n",
      "      building 'cchardet._cchardet' extension\n",
      "      creating build\\temp.win-amd64-cpython-311\n",
      "      creating build\\temp.win-amd64-cpython-311\\Release\n",
      "      creating build\\temp.win-amd64-cpython-311\\Release\\src\n",
      "      creating build\\temp.win-amd64-cpython-311\\Release\\src\\cchardet\n",
      "      creating build\\temp.win-amd64-cpython-311\\Release\\src\\ext\n",
      "      creating build\\temp.win-amd64-cpython-311\\Release\\src\\ext\\uchardet\n",
      "      creating build\\temp.win-amd64-cpython-311\\Release\\src\\ext\\uchardet\\src\n",
      "      creating build\\temp.win-amd64-cpython-311\\Release\\src\\ext\\uchardet\\src\\LangModels\n",
      "      \"C:\\Program Files\\Microsoft Visual Studio\\2022\\Community\\VC\\Tools\\MSVC\\14.39.33519\\bin\\HostX86\\x64\\cl.exe\" /c /nologo /O2 /W3 /GL /DNDEBUG /MD -Isrc/ext/uchardet/src \"-Ic:\\Users\\likgn\\OneDrive - VNU-HCMUS\\Qua Trinh Hoc Tap\\Nam2\\KiII\\TH_NMKHDL\\Final-Project-DSK22\\.venv\\include\" \"-IC:\\Program Files\\WindowsApps\\PythonSoftwareFoundation.Python.3.11_3.11.2544.0_x64__qbz5n2kfra8p0\\include\" \"-IC:\\Program Files\\WindowsApps\\PythonSoftwareFoundation.Python.3.11_3.11.2544.0_x64__qbz5n2kfra8p0\\Include\" \"-IC:\\Program Files\\Microsoft Visual Studio\\2022\\Community\\VC\\Tools\\MSVC\\14.39.33519\\include\" \"-IC:\\Program Files\\Microsoft Visual Studio\\2022\\Community\\VC\\Tools\\MSVC\\14.39.33519\\ATLMFC\\include\" \"-IC:\\Program Files\\Microsoft Visual Studio\\2022\\Community\\VC\\Auxiliary\\VS\\include\" \"-IC:\\Program Files (x86)\\Windows Kits\\10\\include\\10.0.22621.0\\ucrt\" \"-IC:\\Program Files (x86)\\Windows Kits\\10\\\\include\\10.0.22621.0\\\\um\" \"-IC:\\Program Files (x86)\\Windows Kits\\10\\\\include\\10.0.22621.0\\\\shared\" \"-IC:\\Program Files (x86)\\Windows Kits\\10\\\\include\\10.0.22621.0\\\\winrt\" \"-IC:\\Program Files (x86)\\Windows Kits\\10\\\\include\\10.0.22621.0\\\\cppwinrt\" \"-IC:\\Program Files (x86)\\Windows Kits\\NETFXSDK\\4.8\\include\\um\" /EHsc /Tpsrc/cchardet\\_cchardet.cpp /Fobuild\\temp.win-amd64-cpython-311\\Release\\src/cchardet\\_cchardet.obj\n",
      "      _cchardet.cpp\n",
      "      src/cchardet\\_cchardet.cpp(196): fatal error C1083: Cannot open include file: 'longintrepr.h': No such file or directory\n",
      "      error: command 'C:\\\\Program Files\\\\Microsoft Visual Studio\\\\2022\\\\Community\\\\VC\\\\Tools\\\\MSVC\\\\14.39.33519\\\\bin\\\\HostX86\\\\x64\\\\cl.exe' failed with exit code 2\n",
      "      [end of output]\n",
      "  \n",
      "  note: This error originates from a subprocess, and is likely not a problem with pip.\n",
      "  ERROR: Failed building wheel for cchardet\n",
      "ERROR: Could not build wheels for cchardet, which is required to install pyproject.toml-based projects\n"
     ]
    }
   ],
   "source": [
    "!pip install beautifulsoup4\n",
    "!pip install lxml\n",
    "!pip install pyproject-toml\n",
    "!pip install cython\n",
    "!pip install cchardet"
   ]
  },
  {
   "cell_type": "code",
   "execution_count": null,
   "metadata": {},
   "outputs": [],
   "source": [
    "import requests\n",
    "from bs4 import BeautifulSoup\n",
    "import lxml\n",
    "import cchardet\n",
    "import re\n",
    "import pandas as pd\n",
    "import multiprocessing as mp\n",
    "\n",
    "def get_detail_data(url):\n",
    "    page = requests.get(url)\n",
    "    soup = BeautifulSoup(page.content, 'lxml')\n",
    "\n",
    "    # header\n",
    "    try:\n",
    "        header = soup.find('ul', class_='uk-breadcrumb').find_all('li')\n",
    "        category = header[1].text[4:]\n",
    "        district = header[3].text\n",
    "    except:\n",
    "        category = None\n",
    "        district = None\n",
    "\n",
    "    # panel\n",
    "    try:\n",
    "        panel = soup.find('div', class_='landtech-container').find('div', class_='uk-panel')\n",
    "        title = panel.find('h1', class_='uk-panel-title').get_text()\n",
    "        price = panel.find('strong', class_='price').get_text()\n",
    "        price = re.sub('[\\n\\t]+', '', price)\n",
    "        date_posted = panel.find('time', class_='timeago').get('datetime')\n",
    "        date_posted = re.search('(\\d{4}-\\d{2}-\\d{2})', date_posted).group(1)\n",
    "        panel = panel.get_text()\n",
    "    except:\n",
    "        panel = None\n",
    "        title = None\n",
    "        date_posted = None\n",
    "        price = None\n",
    "    try:\n",
    "        area = re.search('(\\d+\\.*\\d*) m2', panel).group(1)\n",
    "    except:\n",
    "        area = None\n",
    "    try:\n",
    "        bedroom = re.search('(\\d+) PN', panel).group(1)\n",
    "    except:\n",
    "        bedroom = None\n",
    "    try:\n",
    "        wc = re.search('(\\d+) WC', panel).group(1)\n",
    "    except:\n",
    "        wc = None\n",
    "    try:\n",
    "        direction = re.search('Hướng nhà:\\s([^\\s]+)', panel).group(1)\n",
    "    except:\n",
    "        direction = None\n",
    "    try:\n",
    "        balcony_direction = re.search('Hướng ban công:\\s([^\\s]+)', panel).group(1)\n",
    "    except:\n",
    "        balcony_direction = None\n",
    "    try:\n",
    "        article_id = re.search('Mã tin:\\s([^\\s]+)', panel).group(1)\n",
    "    except:\n",
    "        article_id = None\n",
    "    \n",
    "    try:\n",
    "        information = soup.find('div', class_='landtech-container').find('div', class_='uk-width-medium-3-5').find('div', class_='uk-width-medium-2-5').find('div', class_='body')\n",
    "        phone = information.find('div', class_= 'more phone').get_text()\n",
    "        phone = re.search(r'(\\d+)', phone).group(1)\n",
    "    except:\n",
    "        phone = None\n",
    "    try:\n",
    "      description = soup.find_all('div', class_='landtech-container')[1].find('div', class_='content').get_text()\n",
    "      description = re.sub('[\\n \\t \\r \\+\\-#,]+', ' ', description)\n",
    "    except:\n",
    "      description = None\n",
    "\n",
    "    return pd.DataFrame([{\n",
    "        'page_link': url,\n",
    "        'title': title,\n",
    "        'article_id': article_id,\n",
    "        'category': category,\n",
    "        'phone': phone,\n",
    "        'district': district,\n",
    "        'date_posted': date_posted,\n",
    "        'price': price,\n",
    "        'area': area,\n",
    "        'bedroom': bedroom,\n",
    "        'wc': wc,\n",
    "        'direction': direction,\n",
    "        'balcony_direction': balcony_direction,\n",
    "        'description': description\n",
    "    }])\n",
    "\n",
    "def parallel_get_detail_data(url_list):\n",
    "    with mp.Pool(processes=20) as pool:\n",
    "        results = pool.map(get_detail_data, url_list)\n",
    "    return pd.concat(results, ignore_index=True)"
   ]
  },
  {
   "cell_type": "code",
   "execution_count": null,
   "metadata": {},
   "outputs": [],
   "source": [
    "raw_detail_data = pd.DataFrame(columns=['page_link', 'article_id', 'title', 'category', 'phone', 'district', 'date_posted', 'price', 'area', 'bedroom', 'wc', 'direction', 'balcony_direction', 'description'])\n",
    "raw_detail_data = parallel_get_detail_data(raw_data['page_link'])"
   ]
  },
  {
   "cell_type": "code",
   "execution_count": null,
   "metadata": {},
   "outputs": [],
   "source": [
    "raw_detail_data.to_csv('raw_detail_data.csv', index=False)"
   ]
  },
  {
   "cell_type": "markdown",
   "metadata": {},
   "source": [
    "**Nhận xét khi sử dụng Beautiful Soup** \\\n",
    "Khi so sánh với Selenium, Beautiful Soup chỉ có những chức năng đơn giản. Tuy nhiên, đó là điểm mạnh của Beautiful Soup ở Project này. Sau khi thực hiện tối ưu theo như tài liệu của BS4, chạy đa luồng, thực thi Code trên nền tảng Collab; tốc độ craw khoảng 12 nghìn bài đăng chỉ trong khoảng 1 tiếng. Tất nhiên, thời gian craw data còn phụ thuộc vào tốc độ phản hồi của website"
   ]
  },
  {
   "cell_type": "markdown",
   "metadata": {},
   "source": [
    "| Tính năng | Beautiful Soup | Selenium |\n",
    "| --- | --- | --- |\n",
    "| Độ dễ sử dụng | Dễ sử dụng và học tập | Yêu cầu cài đặt và cấu hình nhiều hơn |\n",
    "| Hiệu quả với trang web tĩnh | Hiệu quả | Không hiệu quả bằng |\n",
    "| Yêu cầu cài đặt trình duyệt | Không | Có |\n",
    "| Tương tác với trang web động (JavaScript) | Không | Có |\n",
    "| Khả năng tự động hóa | Giới hạn (ví dụ: không thể điền biểu mẫu, nhấp chuột) | Nâng cao (có thể tự động hóa các tác vụ phức tạp như điền biểu mẫu, nhấp chuột, cuộn trang, v.v.) |\n",
    "| Hiệu suất | Nhanh hơn | Chậm hơn (do phải khởi động trình duyệt) |\n",
    "| Trường hợp sử dụng | - Trích xuất dữ liệu từ trang web tĩnh<br>- Phân tích cú pháp HTML/XML mà không cần tương tác | - Tương tác với trang web động (JavaScript)<br>- Tự động hóa các tác vụ phức tạp (điền biểu mẫu, nhấp chuột, v.v.) |"
   ]
  },
  {
   "cell_type": "markdown",
   "metadata": {},
   "source": [
    "**Kết Luận Phương Pháp**: Vì Web bất động sản là web tĩnh, ít chạy javascript và không bị chặn request; nên sử dụng thư viện request cùng với Beautiful Soup là phù hợp hơn"
   ]
  },
  {
   "cell_type": "markdown",
   "metadata": {},
   "source": [
    "## **Phần 5: Kết Quả** <a id=\"12\"></a> "
   ]
  },
  {
   "cell_type": "markdown",
   "metadata": {},
   "source": [
    "Dữ liệu thô sau khi craw data, có thể truy cập ở đường dẫn sau: https://raw.githubusercontent.com/KhiemDangLe/Final-Project/main/CrawData/raw_full_detail_data.csv"
   ]
  },
  {
   "cell_type": "code",
   "execution_count": null,
   "metadata": {},
   "outputs": [
    {
     "data": {
      "text/html": [
       "<div>\n",
       "<style scoped>\n",
       "    .dataframe tbody tr th:only-of-type {\n",
       "        vertical-align: middle;\n",
       "    }\n",
       "\n",
       "    .dataframe tbody tr th {\n",
       "        vertical-align: top;\n",
       "    }\n",
       "\n",
       "    .dataframe thead th {\n",
       "        text-align: right;\n",
       "    }\n",
       "</style>\n",
       "<table border=\"1\" class=\"dataframe\">\n",
       "  <thead>\n",
       "    <tr style=\"text-align: right;\">\n",
       "      <th></th>\n",
       "      <th>page_link</th>\n",
       "      <th>title</th>\n",
       "      <th>article_id</th>\n",
       "      <th>category</th>\n",
       "      <th>phone</th>\n",
       "      <th>district</th>\n",
       "      <th>date_posted</th>\n",
       "      <th>price</th>\n",
       "      <th>area</th>\n",
       "      <th>bedroom</th>\n",
       "      <th>wc</th>\n",
       "      <th>direction</th>\n",
       "      <th>balcony_direction</th>\n",
       "      <th>description</th>\n",
       "    </tr>\n",
       "  </thead>\n",
       "  <tbody>\n",
       "    <tr>\n",
       "      <th>0</th>\n",
       "      <td>https://batdongsan.vn/chua-toi-30trm2-hang-ngo...</td>\n",
       "      <td>Chưa tới 30tr/m2 - Hàng ngộp bank BAO ĐẦU TƯ ...</td>\n",
       "      <td>285164.0</td>\n",
       "      <td>Nhà riêng</td>\n",
       "      <td>933670051.0</td>\n",
       "      <td>Nhà Bè</td>\n",
       "      <td>2023-12-10</td>\n",
       "      <td>3899000000 tỷ</td>\n",
       "      <td>150.0</td>\n",
       "      <td>2.0</td>\n",
       "      <td>1.0</td>\n",
       "      <td>NaN</td>\n",
       "      <td>NaN</td>\n",
       "      <td>Mô tả: Thông số cực đẹp 5 x 30m (150m2) Nh...</td>\n",
       "    </tr>\n",
       "    <tr>\n",
       "      <th>1</th>\n",
       "      <td>https://batdongsan.vn/ban-nha-hxh-au-co-phuong...</td>\n",
       "      <td>Bán nhà HXH Âu Cơ Phường 9 Tân Bình, 51m2 3 Tầ...</td>\n",
       "      <td>285163.0</td>\n",
       "      <td>Nhà riêng</td>\n",
       "      <td>922351398.0</td>\n",
       "      <td>Tân Bình</td>\n",
       "      <td>2023-12-10</td>\n",
       "      <td>5.5 tỷ</td>\n",
       "      <td>51.0</td>\n",
       "      <td>NaN</td>\n",
       "      <td>NaN</td>\n",
       "      <td>NaN</td>\n",
       "      <td>NaN</td>\n",
       "      <td>Bán nhà HXH Âu Cơ Phường 9 Tân Bình 51m2 3 Tầ...</td>\n",
       "    </tr>\n",
       "    <tr>\n",
       "      <th>2</th>\n",
       "      <td>https://batdongsan.vn/sat-mat-tien-phan-dang-l...</td>\n",
       "      <td>SÁT MẶT TIỀN PHAN ĐĂNG LƯU, PHƯỜNG 7, PHÚ NHUẬ...</td>\n",
       "      <td>285162.0</td>\n",
       "      <td>Nhà</td>\n",
       "      <td>907340956.0</td>\n",
       "      <td>Phú Nhuận</td>\n",
       "      <td>2023-12-10</td>\n",
       "      <td>4.6 tỷ</td>\n",
       "      <td>45.0</td>\n",
       "      <td>2.0</td>\n",
       "      <td>2.0</td>\n",
       "      <td>NaN</td>\n",
       "      <td>NaN</td>\n",
       "      <td>Kết cấu: 1 trệt 1 lầu BTCT; 2 PN 2 WC. Phòng ...</td>\n",
       "    </tr>\n",
       "    <tr>\n",
       "      <th>3</th>\n",
       "      <td>https://batdongsan.vn/chu-gap-ban-truoc-tet-le...</td>\n",
       "      <td>CHỦ GẤP BÁN TRƯỚC TẾT LÊ HỒNG PHONG QUẬN 5 RA ...</td>\n",
       "      <td>285161.0</td>\n",
       "      <td>Nhà riêng</td>\n",
       "      <td>849734646.0</td>\n",
       "      <td>Quận 5</td>\n",
       "      <td>2023-12-10</td>\n",
       "      <td>7.35 tỷ</td>\n",
       "      <td>41.0</td>\n",
       "      <td>NaN</td>\n",
       "      <td>NaN</td>\n",
       "      <td>NaN</td>\n",
       "      <td>NaN</td>\n",
       "      <td>Mô tả: Diện tích công nhận 41m thực tế 66m ng...</td>\n",
       "    </tr>\n",
       "    <tr>\n",
       "      <th>4</th>\n",
       "      <td>https://batdongsan.vn/luy-ban-bichtan-phu-dien...</td>\n",
       "      <td>LŨY BÁN BÍCH,TÂN PHÚ-DIỆN TÍCH KHỦNG 96M2 ( 4....</td>\n",
       "      <td>285159.0</td>\n",
       "      <td>Nhà riêng</td>\n",
       "      <td>899892121.0</td>\n",
       "      <td>Tân Phú</td>\n",
       "      <td>2023-12-07</td>\n",
       "      <td>Thỏa thuận</td>\n",
       "      <td>96.0</td>\n",
       "      <td>2.0</td>\n",
       "      <td>1.0</td>\n",
       "      <td>NaN</td>\n",
       "      <td>NaN</td>\n",
       "      <td>Diện tích 96m2 ngang 4.3m dài 22.5m . sổ vuôn...</td>\n",
       "    </tr>\n",
       "  </tbody>\n",
       "</table>\n",
       "</div>"
      ],
      "text/plain": [
       "                                           page_link  \\\n",
       "0  https://batdongsan.vn/chua-toi-30trm2-hang-ngo...   \n",
       "1  https://batdongsan.vn/ban-nha-hxh-au-co-phuong...   \n",
       "2  https://batdongsan.vn/sat-mat-tien-phan-dang-l...   \n",
       "3  https://batdongsan.vn/chu-gap-ban-truoc-tet-le...   \n",
       "4  https://batdongsan.vn/luy-ban-bichtan-phu-dien...   \n",
       "\n",
       "                                               title  article_id   category  \\\n",
       "0  Chưa tới 30tr/m2 - Hàng ngộp bank BAO ĐẦU TƯ ...    285164.0  Nhà riêng   \n",
       "1  Bán nhà HXH Âu Cơ Phường 9 Tân Bình, 51m2 3 Tầ...    285163.0  Nhà riêng   \n",
       "2  SÁT MẶT TIỀN PHAN ĐĂNG LƯU, PHƯỜNG 7, PHÚ NHUẬ...    285162.0        Nhà   \n",
       "3  CHỦ GẤP BÁN TRƯỚC TẾT LÊ HỒNG PHONG QUẬN 5 RA ...    285161.0  Nhà riêng   \n",
       "4  LŨY BÁN BÍCH,TÂN PHÚ-DIỆN TÍCH KHỦNG 96M2 ( 4....    285159.0  Nhà riêng   \n",
       "\n",
       "         phone   district date_posted          price   area  bedroom   wc  \\\n",
       "0  933670051.0     Nhà Bè  2023-12-10  3899000000 tỷ  150.0      2.0  1.0   \n",
       "1  922351398.0   Tân Bình  2023-12-10         5.5 tỷ   51.0      NaN  NaN   \n",
       "2  907340956.0  Phú Nhuận  2023-12-10         4.6 tỷ   45.0      2.0  2.0   \n",
       "3  849734646.0     Quận 5  2023-12-10        7.35 tỷ   41.0      NaN  NaN   \n",
       "4  899892121.0    Tân Phú  2023-12-07     Thỏa thuận   96.0      2.0  1.0   \n",
       "\n",
       "  direction balcony_direction  \\\n",
       "0       NaN               NaN   \n",
       "1       NaN               NaN   \n",
       "2       NaN               NaN   \n",
       "3       NaN               NaN   \n",
       "4       NaN               NaN   \n",
       "\n",
       "                                         description  \n",
       "0   Mô tả: Thông số cực đẹp 5 x 30m (150m2) Nh...  \n",
       "1   Bán nhà HXH Âu Cơ Phường 9 Tân Bình 51m2 3 Tầ...  \n",
       "2   Kết cấu: 1 trệt 1 lầu BTCT; 2 PN 2 WC. Phòng ...  \n",
       "3   Mô tả: Diện tích công nhận 41m thực tế 66m ng...  \n",
       "4   Diện tích 96m2 ngang 4.3m dài 22.5m . sổ vuôn...  "
      ]
     },
     "execution_count": 4,
     "metadata": {},
     "output_type": "execute_result"
    }
   ],
   "source": [
    "check_data = pd.read_csv('https://raw.githubusercontent.com/KhiemDangLe/Final-Project/main/CrawData/raw_full_detail_data.csv')\n",
    "check_data.head()"
   ]
  },
  {
   "cell_type": "markdown",
   "metadata": {},
   "source": [
    "# **Trích xuất các thuộc tính khác từ mô tả bài đăng với mô hình LLM**"
   ]
  },
  {
   "cell_type": "markdown",
   "metadata": {},
   "source": [
    "Mô hình ngôn ngữ lớn là một loại thuật toán trí tuệ nhân tạo áp dụng các kỹ thuật mạng thần kinh với nhiều tham số để xử lý và hiểu ngôn ngữ hoặc văn bản của con người bằng kỹ thuật học tự giám sát. \n",
    "\n",
    "LLM API  là sự tương tác kỹ thuật với các hệ thống AI phức tạp có khả năng xử lý, hiểu và tạo ra ngôn ngữ của con người. Các API này hoạt động như một kênh giữa các thuật toán phức tạp về hiệu suất LLM và các ứng dụng khác nhau, cho phép tích hợp liền mạch các chức năng xử lý ngôn ngữ vào các giải pháp phần mềm."
   ]
  },
  {
   "cell_type": "markdown",
   "metadata": {},
   "source": [
    "**Mục đích** \\\n",
    "Sử dụng mô hình LLM để trích xuất các thuộc tính sau từ nội dung mô tả của bài đăng:\n",
    "* is_real_estate_post -> Nhằm phân biệt với các bài viết spam, mặc định None\n",
    "* area_LLM -> diện tích, mặc định None\n",
    "* bedroom_LLM -> số phòng ngủ, mặc định None\n",
    "* wc_LLM -> số phòng vệ sinh, mặc định None\n",
    "* count_conveniences -> số tiện ích xung quanh, mặc định None\n",
    "* alleyway_property -> trong hẻm, mặc định là None\n",
    "* under_mortgage -> có đang bị thế chấp không, mặc định None -> thể hiện sự ownership\n",
    "* residential_purpose -> Chắc chắn nằm trên đất thổ cư, mặc định None\n",
    "* furnished -> bán nhà có bán kèm nột thất không, mặc định None\n",
    "* has_lowerlevel -> tầng hầm, default None\n",
    "* has_rooftop -> sân thượng, mặc định None\n",
    "* numbers_of_floors -> số tầng, không tính tầng trệt, sân thượng, mặc định 0\n",
    "* street_name -> tên đường, mặc định None\n",
    "\n",
    "**Prompt**\n",
    "Xem file prompt_for_extracting trong thư mục crawl_data"
   ]
  },
  {
   "cell_type": "code",
   "execution_count": null,
   "metadata": {},
   "outputs": [],
   "source": [
    "# Sử dụng LLM API trên AnyScale web\n",
    "#import re\n",
    "def crawl_data(text_required):\n",
    "    with requests.Session() as s:\n",
    "        # thử lại 5 lần nếu truy cập vào web bị lỗi ,backoff_factor quy định thời gian chờ\n",
    "        retries = Retry(total=5, backoff_factor=0.1, status_forcelist=[500, 502, 503, 504])\n",
    "        s.mount(\"https://\", HTTPAdapter(max_retries=retries))\n",
    "        api_base = \"https://api.endpoints.anyscale.com/v1\"\n",
    "        token = \"esecret_c3bs9hkq93mbayfhaqht59qd1m\"\n",
    "        url = f\"{api_base}/chat/completions\"\n",
    "        body = {\n",
    "            \"model\": \"meta-llama/Meta-Llama-3-70B-Instruct\",\n",
    "            \"messages\": [{\n",
    "              \"role\": \"system\",\n",
    "              \"content\": (\"You are a data scientist, and I want to extract useful data from a description in a Vietnamese real estate post. I’ll provide you with that description, and you must only return the keys and values in JSON format without any introduction. The response mustn't contain any explanation. The keys contain those properties: is_real_estate_post, area_LLM, bedroom_LLM, total_room_LLm, wc_LLM, count_conveniences, alleyway_property, under_mortgage, residential_purpose, furnished, has_lowerlevel, has_rooftop, numbers_of_floors, street_name. is_real_estate_post is boolean value (1/0), default is null. area_LLM is a float number, converted into m2 unit, greater than 0, default is null. bedroom_LLM is an integer number, greater than 0, default is null. wc_LLM is an integer number, greater than 0, default is null. count_conveniences is an integer number, greater or equal 0, default is 0. The list of convenience-related words is defined as:a = ('school', 'hospital', 'supermarket', 'shopping center', 'market', 'mall', 'mart').For each word from this list that appears in the description, increment the count_conveniences by 1.If none of the words from the list are found in the description, then the value of count_conveniences remains unchanged Alleyway_property is boolean value (1/0), default is null. under_mortgage is boolean value (1/0), default is null. residential_purpose is boolean value (1/0), default value is null, it ensures the buyer have full ownership rights for residential purposes. has_basement, has_rooftop, furnished are boolean values (1/0), default is null. numbers_of_floors is an integer number, greater or equal 0, default is 0, doesn't include the ground floor and rooftoop floor. street_name is a string, default is null, it represents the name of the street where the property is located in Ho Chi Minh City, Viet Name. If the description doesn't contain enough information to determine the value of a property, the corresponding value in the dictionary should be set to default value.\")\n",
    "            },\n",
    "                {\"role\": \"user\", \"content\": f\"{text_required}\"}],\n",
    "            \"temperature\": 0.2, # kiểm soát sự ngẫu nhiên của output\n",
    "            \"max_tokens\": 256,\n",
    "            \"top_p\": 1,   # kiểm soát tính đa dạng của đầu ra\n",
    "            \"frequency_penalty\": 0 # kiểm soát sự lặp từ\n",
    "        }\n",
    "        headers = {\"Authorization\": f\"Bearer {token}\",\"Content-Type\": \"application/json\"}\n",
    "        try:\n",
    "            response = s.post(url, headers=headers, json=body)\n",
    "            response.raise_for_status() # kiểm tra xem yêu cầu có được chấp thuận không\n",
    "            data = response.json()  # chuyển sang dictionary\n",
    "            if \"choices\" in data and len(data[\"choices\"]) > 0: # kiểm tra xem dữ liệu có tồn tại hay không\n",
    "                return re.sub('\\n', '',data[\"choices\"][0][\"message\"][\"content\"]) # trả về lời nhắn đầu tiên\n",
    "            else:\n",
    "                return \"{}\"\n",
    "        except requests.exceptions.RequestException as e:\n",
    "            print(f\"An error occurred: {e}\") # xuất ra lỗi\n",
    "            return \"{}\""
   ]
  },
  {
   "cell_type": "code",
   "execution_count": null,
   "metadata": {},
   "outputs": [],
   "source": [
    "def process_text(input):\n",
    "    text_required, article_id = input\n",
    "    output = crawl_data(text_required)\n",
    "    output = remove_fault(output)\n",
    "    # Kiểm tra tính hợp lệ dạng JSON\n",
    "    try:\n",
    "        result = json.loads(output)\n",
    "        result['article_id'] = article_id\n",
    "    except (json.JSONDecodeError, TypeError) as e:\n",
    "        print(f\"Error decoding JSON for index {0}: {e}\")\n",
    "        print(output)\n",
    "        return None\n",
    "    return result"
   ]
  },
  {
   "cell_type": "code",
   "execution_count": null,
   "metadata": {},
   "outputs": [],
   "source": [
    "# xử lý chuỗi bằng regrex\n",
    "\n",
    "def remove_fault(text):\n",
    "    # xử lý chuỗi trước và sau dấu ngoặc nhọn\n",
    "    text = re.sub(r'^.*?{', '{', text, flags=re.DOTALL)\n",
    "    text = re.sub(r'}.*$', '}', text, flags=re.DOTALL)\n",
    "    # xử lý khi 1 chuỗi trả về giá None, thay vào đó là giá trị 0\n",
    "    none_pattern = r'None'\n",
    "    cleaned_text = re.sub(none_pattern, '0', text)\n",
    "    # xử lý khi bị lỗi trả về float(\"NaN\"),thay vào đó là giá trị null\n",
    "    cleaned_text = re.sub(r'float\\(\"NaN\"\\)', 'null', cleaned_text)\n",
    "    # xử lý khi trả '', thay vào đó là \"\"\n",
    "    cleaned_text = re.sub(r\"'([^']*)'\", r'\"\\1\"', cleaned_text)\n",
    "    # xử lý khi chuỗi có xuống dòng\n",
    "    cleaned_text = re.sub(r'\\n', '', cleaned_text)\n",
    "    # xử lý khi LLM không trả về đủ các key\n",
    "    key=['is_real_estate_post', 'area_LLM', 'bedroom_LLM', 'wc_LLM', 'count_conveniences', 'alleyway_property', 'under_mortgage', 'residential_purpose', 'numbers_of_floors' ,'has_rooftop', 'furnished','street_name']\n",
    "    for k in key:\n",
    "        cleaned_text = ensure_key_present(cleaned_text, k)\n",
    "    # xử lý khi LLM trả về có dấu phẩy ở cuối\n",
    "    pattern = re.compile(r',\\s*([}\\]])')\n",
    "    cleaned_text = pattern.sub(r'\\1', cleaned_text)\n",
    "\n",
    "    return cleaned_text"
   ]
  },
  {
   "cell_type": "code",
   "execution_count": null,
   "metadata": {},
   "outputs": [],
   "source": [
    "def ensure_key_present(text, key):\n",
    "    if f\"'{key}'\" not in text and f'\"{key}\"' not in text:\n",
    "        text = re.sub(r'(\\{)', rf'\\1\\n    \"{key}\": {0},', text)\n",
    "    return text"
   ]
  },
  {
   "cell_type": "code",
   "execution_count": null,
   "metadata": {},
   "outputs": [],
   "source": [
    "import multiprocessing as mp\n",
    "import json\n",
    "# Text nhập vào, việc mô tả hợp lí, rõ ràng giúp cho câu trả lời có chất lượng tốt hơn\n",
    "result_list = []\n",
    "inputs = []\n",
    "for i in range(raw_data.shape[0]):\n",
    "    text_required = \"This is the description in Vietnamese:\"\n",
    "    text_required += str(raw_data['title'][i]) + ' ' + str(raw_data['description'][i]) + '.'\n",
    "    inputs.append((text_required, raw_data['article_id'][i]))\n",
    "\n",
    "# Xử lý đa luồng với số luồng là 20, giúp tăng tốc độ, với cách xử lí này các câu trả lời không bị đảo thứ tự cho nhau, mà vẫn thêm đúng như thứ tự đã nhập vào ban đầu.\n",
    "with mp.Pool(processes=20) as pool:\n",
    "    results = pool.map(process_text, inputs)\n",
    "# Tăng tốc độ xử lý ,Tăng khả năng đa nhiệm: Multiprocessing cho phép thực hiện nhiều tác vụ đồng thời, làm tăng khả năng đa nhiệm của ứng dụng, phân phối công việc: bạn có thể phân chia công việc thành các tiến trình riêng biệt, giúp tận dụng tối đa tài nguyên hệ thống., Isolation: Mỗi tiến trình trong multiprocessing có môi trường thực thi riêng của nó, giúp tránh tình trạng xung đột dữ liệu và lỗi do tài nguyên được chia sẻ không an toàn.\n",
    "\n",
    "# Thêm kết quả vào mảng\n",
    "result_df = pd.DataFrame(results)"
   ]
  },
  {
   "cell_type": "code",
   "execution_count": null,
   "metadata": {},
   "outputs": [],
   "source": [
    "from google.colab import drive\n",
    "drive.mount('/content/drive')\n",
    "result_df.to_csv('/content/drive/My Drive/raw_data_3_extracted_by_LLM.csv', index=False)"
   ]
  },
  {
   "cell_type": "markdown",
   "metadata": {},
   "source": [
    "# **Quy trình ETL**"
   ]
  },
  {
   "cell_type": "markdown",
   "metadata": {},
   "source": [
    "1. **Extract trích xuất dữ liệu**.\n",
    "      - 1.1 Trích xuất dữ liệu LLM_data từ phần LLM.\n",
    "      - 1.2 Trích xuất dữ liệu raw_data phần raw data.\n",
    "2. **Transform dữ liệu**.\n",
    "      - 2.1 Transform cột article_id từ hai nguồn dữ liệu từ dạng float sang kiểu string.\n",
    "      - 2.2 Transform join article_id từ hai nguồn dữ liệu raw_data và LLM_data thành merged_data.\n",
    "      - 2.3 Transform cột price.\n",
    "          - 2.3.1 Loại bỏ các cột giá Thỏa Thuận và transform cột giá.\n",
    "      - 2.4 Transform cột area.\n",
    "          - 2.4.1 Thêm miền chặn dưới của cột area.\n",
    "      - 2.5 Thêm cột area_per_m2\n",
    "      - 2.6 Transform cột date_posted từ dạng object sang kiểu datetime64\n",
    "\n",
    "3. **Load Dữ liệu vào file merged data.csv**."
   ]
  },
  {
   "cell_type": "markdown",
   "metadata": {},
   "source": [
    "## **Trích xuất dữ liệu**"
   ]
  },
  {
   "cell_type": "markdown",
   "metadata": {},
   "source": [
    "#### **Trích xuất dữ liệu từ file raw_data_2_from_post.csv**\n",
    "File raw_data_2_post là file chứa dữ liệu sau khi đã crawl data từ trang web batdongsan.com.vn."
   ]
  },
  {
   "cell_type": "code",
   "execution_count": 47,
   "metadata": {},
   "outputs": [],
   "source": [
    "import pandas as pd\n",
    "raw_data_from_post = pd.read_csv('https://raw.githubusercontent.com/KhiemDangLe/Final-Project/main/CrawData/raw_data_2_from_post.csv')"
   ]
  },
  {
   "cell_type": "markdown",
   "metadata": {},
   "source": [
    "#### **Trích xuất dữ liệu từ file raw_data_3_from_LLM.csv**\n",
    "File raw_data_3_from_LLM.csv là file chứa dữ liệu về các thuộc tính của bài đăng được trích xuất từ mô tả của bài đăng nhờ mô hình LLM"
   ]
  },
  {
   "cell_type": "code",
   "execution_count": 48,
   "metadata": {},
   "outputs": [],
   "source": [
    "raw_data_extracted_by_LLM = pd.read_csv('https://raw.githubusercontent.com/KhiemDangLe/Final-Project/main/CrawData/raw_data_3_extracted_by_LLM.csv')"
   ]
  },
  {
   "cell_type": "markdown",
   "metadata": {},
   "source": [
    "## **Transform dữ liệu**"
   ]
  },
  {
   "cell_type": "markdown",
   "metadata": {},
   "source": [
    "#### **Chuyển đổi cột article_id từ hai nguồn dữ liệu về cùng kiểu**"
   ]
  },
  {
   "cell_type": "markdown",
   "metadata": {},
   "source": [
    "**raw_data_from_post**"
   ]
  },
  {
   "cell_type": "code",
   "execution_count": 49,
   "metadata": {},
   "outputs": [
    {
     "data": {
      "text/plain": [
       "numpy.float64"
      ]
     },
     "execution_count": 49,
     "metadata": {},
     "output_type": "execute_result"
    }
   ],
   "source": [
    "type(raw_data_from_post['article_id'][1])"
   ]
  },
  {
   "cell_type": "code",
   "execution_count": 50,
   "metadata": {},
   "outputs": [
    {
     "name": "stderr",
     "output_type": "stream",
     "text": [
      "C:\\Users\\likgn\\AppData\\Local\\Temp\\ipykernel_15276\\2539369645.py:4: FutureWarning: Setting an item of incompatible dtype is deprecated and will raise an error in a future version of pandas. Value '285164' has dtype incompatible with float64, please explicitly cast to a compatible dtype first.\n",
      "  raw_data_from_post.loc[i, 'article_id'] = np.format_float_positional(raw_data_from_post.loc[i, 'article_id'], trim='-')\n"
     ]
    }
   ],
   "source": [
    "import numpy as np\n",
    "# sử dụng format_float_positional\n",
    "for i in range(len(raw_data_from_post['article_id'])):\n",
    "    raw_data_from_post.loc[i, 'article_id'] = np.format_float_positional(raw_data_from_post.loc[i, 'article_id'], trim='-')\n",
    "raw_data_from_post['article_id'] = raw_data_from_post['article_id'].astype(str)"
   ]
  },
  {
   "cell_type": "markdown",
   "metadata": {},
   "source": [
    "**raw_data_extracted_by_LLM**"
   ]
  },
  {
   "cell_type": "code",
   "execution_count": 51,
   "metadata": {},
   "outputs": [
    {
     "data": {
      "text/plain": [
       "numpy.float64"
      ]
     },
     "execution_count": 51,
     "metadata": {},
     "output_type": "execute_result"
    }
   ],
   "source": [
    "type(raw_data_extracted_by_LLM['article_id'][1])"
   ]
  },
  {
   "cell_type": "code",
   "execution_count": 52,
   "metadata": {},
   "outputs": [
    {
     "name": "stderr",
     "output_type": "stream",
     "text": [
      "C:\\Users\\likgn\\AppData\\Local\\Temp\\ipykernel_15276\\1616691666.py:2: FutureWarning: Setting an item of incompatible dtype is deprecated and will raise an error in a future version of pandas. Value '285164' has dtype incompatible with float64, please explicitly cast to a compatible dtype first.\n",
      "  raw_data_extracted_by_LLM.loc[i, 'article_id'] = np.format_float_positional(raw_data_extracted_by_LLM.loc[i, 'article_id'], trim='-')\n"
     ]
    }
   ],
   "source": [
    "for i in range(len(raw_data_extracted_by_LLM['article_id'])):\n",
    "    raw_data_extracted_by_LLM.loc[i, 'article_id'] = np.format_float_positional(raw_data_extracted_by_LLM.loc[i, 'article_id'], trim='-')\n",
    "raw_data_extracted_by_LLM['article_id'] = raw_data_extracted_by_LLM['article_id'].astype(str)"
   ]
  },
  {
   "cell_type": "markdown",
   "metadata": {},
   "source": [
    "#### **Join dữ liệu từ hai nguồn raw_data_from_post và raw_data_extracted_by_LLM**"
   ]
  },
  {
   "cell_type": "code",
   "execution_count": 53,
   "metadata": {},
   "outputs": [],
   "source": [
    "merged_data = raw_data_from_post.merge(raw_data_extracted_by_LLM, on='article_id', how='inner')\n",
    "merged_data.drop_duplicates(subset='article_id', inplace=True)"
   ]
  },
  {
   "cell_type": "markdown",
   "metadata": {},
   "source": [
    "#### **Chuyển đổi cột price**"
   ]
  },
  {
   "cell_type": "code",
   "execution_count": 54,
   "metadata": {},
   "outputs": [
    {
     "name": "stdout",
     "output_type": "stream",
     "text": [
      "<class 'pandas.core.frame.DataFrame'>\n",
      "Index: 11082 entries, 0 to 12141\n",
      "Data columns (total 29 columns):\n",
      " #   Column               Non-Null Count  Dtype  \n",
      "---  ------               --------------  -----  \n",
      " 0   page_link            11082 non-null  object \n",
      " 1   title                11081 non-null  object \n",
      " 2   article_id           11082 non-null  object \n",
      " 3   category             11081 non-null  object \n",
      " 4   phone                11080 non-null  float64\n",
      " 5   district             11081 non-null  object \n",
      " 6   date_posted          11081 non-null  object \n",
      " 7   area                 10543 non-null  float64\n",
      " 8   bedroom              6820 non-null   float64\n",
      " 9   wc                   6486 non-null   float64\n",
      " 10  direction            1537 non-null   object \n",
      " 11  balcony_direction    1002 non-null   object \n",
      " 12  description          11081 non-null  object \n",
      " 13  is_real_estate_post  11074 non-null  float64\n",
      " 14  area_LLM             10231 non-null  float64\n",
      " 15  bedroom_LLM          7489 non-null   float64\n",
      " 16  total_room_LLm       4774 non-null   float64\n",
      " 17  wc_LLM               5798 non-null   float64\n",
      " 18  count_conveniences   11082 non-null  int64  \n",
      " 19  alleyway_property    7505 non-null   float64\n",
      " 20  under_mortgage       1811 non-null   float64\n",
      " 21  residential_purpose  4360 non-null   float64\n",
      " 22  furnished            2717 non-null   float64\n",
      " 23  has_lowerlevel       2660 non-null   float64\n",
      " 24  has_rooftop          3306 non-null   float64\n",
      " 25  numbers_of_floors    9716 non-null   float64\n",
      " 26  street_name          10134 non-null  object \n",
      " 27  so                   11081 non-null  float64\n",
      " 28  don_vi               11081 non-null  object \n",
      "dtypes: float64(17), int64(1), object(11)\n",
      "memory usage: 2.5+ MB\n"
     ]
    }
   ],
   "source": [
    "import re\n",
    "\n",
    "# loại bỏ dữ liệu các cột có tên là thỏa thuận\n",
    "merged_data.drop(index=merged_data[merged_data['price'] == 'Thỏa thuận'].index, inplace=True)\n",
    "\n",
    "def tach_so_va_don_vi(chuoi):\n",
    "    # Handle non-string values by converting to string\n",
    "    if not isinstance(chuoi, str):\n",
    "        chuoi = str(chuoi)\n",
    "\n",
    "    # Biểu thức chính quy để tìm các phần số và đơn vị\n",
    "    pattern = r'([\\d.]+)\\s*(\\D*)'\n",
    "    \n",
    "    # Tìm tất cả các cặp số và đơn vị trong chuỗi\n",
    "    matches = re.findall(pattern, chuoi)\n",
    "    if matches:\n",
    "        return matches[0]  # Trả về cặp số và đơn vị đầu tiên (nếu có)\n",
    "    else:\n",
    "        return None, None  # Trả về None nếu không tìm thấy\n",
    "\n",
    "# Extract number and unit before dropping 'price' column\n",
    "merged_data[['so', 'don_vi']] = merged_data['price'].apply(tach_so_va_don_vi).apply(pd.Series)\n",
    "merged_data.drop(columns=['price'], inplace=True)\n",
    "\n",
    "merged_data['don_vi'].unique()\n",
    "merged_data['don_vi'].str.strip()\n",
    "merged_data['so'] = merged_data['so'].astype(float)\n",
    "merged_data.info()\n",
    "\n",
    "def convert_value(row):\n",
    "    # Chuyển đổi số thành chuỗi để kiểm tra số chữ số trước dấu thập phân\n",
    "    so_str = str(row['so'])\n",
    "\n",
    "    # Tách phần nguyên và phần thập phân của số\n",
    "    if '.' in so_str:                  # t\n",
    "        integer_part = so_str.split('.')[0]\n",
    "    else:\n",
    "        integer_part = so_str\n",
    "\n",
    "    # Kiểm tra số chữ số của phần nguyên\n",
    "    if len(integer_part) < 5:\n",
    "        if row['don_vi'] == 'tỷ':\n",
    "            return row['so'] * 1000000000\n",
    "        elif row['don_vi'] == 'triệu':\n",
    "            return row['so'] * 1000000\n",
    "        elif row['don_vi'] == 'nghìn':\n",
    "            return row['so'] * 1000\n",
    "        else:\n",
    "            return row['so']\n",
    "    else:\n",
    "        return row['so']\n",
    "\n",
    "\n",
    "# Áp dụng hàm chuyển đổi cho từng hàng của DataFrame\n",
    "merged_data['so'] = merged_data.apply(convert_value, axis=1)\n",
    "merged_data.drop(columns=['don_vi'], inplace=True)\n",
    "merged_data.rename(columns={'so': 'price'}, inplace=True)"
   ]
  },
  {
   "cell_type": "markdown",
   "metadata": {},
   "source": [
    "#### **Chuyển đổi cột date_posted từ dạng object sang dạng datetime**"
   ]
  },
  {
   "cell_type": "code",
   "execution_count": 56,
   "metadata": {},
   "outputs": [],
   "source": [
    "merged_data['date_posted'] = pd.to_datetime(merged_data['date_posted'], format='%Y-%m-%d')"
   ]
  },
  {
   "cell_type": "markdown",
   "metadata": {},
   "source": [
    "#### **Thêm cột price_per_m2**"
   ]
  },
  {
   "cell_type": "code",
   "execution_count": 58,
   "metadata": {},
   "outputs": [
    {
     "data": {
      "text/plain": [
       "539"
      ]
     },
     "execution_count": 58,
     "metadata": {},
     "output_type": "execute_result"
    }
   ],
   "source": [
    "merged_data['price_per_m2'] = merged_data['price'] / merged_data['area']\n",
    "merged_data['price_per_m2'].isnull().sum()"
   ]
  },
  {
   "cell_type": "markdown",
   "metadata": {},
   "source": [
    "## **Load dữ liệu vào file raw_data_4_merged.csv**"
   ]
  },
  {
   "cell_type": "code",
   "execution_count": 60,
   "metadata": {},
   "outputs": [],
   "source": [
    "merged_data.to_csv(\"raw_data_4_merged.csv\", index=False)"
   ]
  }
 ],
 "metadata": {
  "kernelspec": {
   "display_name": ".venv",
   "language": "python",
   "name": "python3"
  },
  "language_info": {
   "codemirror_mode": {
    "name": "ipython",
    "version": 3
   },
   "file_extension": ".py",
   "mimetype": "text/x-python",
   "name": "python",
   "nbconvert_exporter": "python",
   "pygments_lexer": "ipython3",
   "version": "3.11.9"
  }
 },
 "nbformat": 4,
 "nbformat_minor": 2
}
