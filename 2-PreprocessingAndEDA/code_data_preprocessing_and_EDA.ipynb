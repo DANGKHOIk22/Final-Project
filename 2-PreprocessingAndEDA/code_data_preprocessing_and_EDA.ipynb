{
  "cells": [
    {
      "cell_type": "markdown",
      "metadata": {
        "id": "uxwWmd-zvdNh"
      },
      "source": [
        "# **Tiền xử lý dữ liệu và Phân tích khám phá dữ liệu**\n",
        "File này mô tả quá trình tiền xử lý dữ liệu và phân tích khám phá dữ liệu. Tuy nhiên, ở phần sau của đồ án, nhóm sẽ dùng nhiều loại mô hình khác nhau để dự đoán giá nhà. Mỗi mô hình có một đặc trưng riêng, phù hợp với các phương pháp xử lý dữ liệu bị thiếu, dữ liệu phân loại khác nhau. Do đó, mục đích chính của quá trình tiền xử lý dữ liệu chỉ nhằm phục vụ cho quá trình phân tích khám phá dữ liệu; không làm thay đổi quá nhiều đặc trưng của dữ liệu."
      ]
    },
    {
      "cell_type": "markdown",
      "metadata": {
        "id": "mwSwWUx_-I7W"
      },
      "source": [
        "Nội dung:\n",
        "- 1.Tiền xử lý dữ liệu và Phân tích khám phá dữ liệu\n",
        "  - Mô tả tổng quan về dữ liệu về dữ liệu\n",
        "- 2.Tiến hành tiền phân tích xữ lí dữ liệu\n",
        "  - Xử lý các bài đăng không phù hợp\n",
        "    - Xóa hàng thiếu dữ liệu\n",
        "    - Xóa các bài viết bị đăng lại nhiều lần\n",
        "    - Xóa các bài đăng spam (dùng cột is_real_estate_post)\n",
        "    - Xóa các bài đăng không nằm trong phân loại bất động sản về Nhà (dùng cột category)\n",
        "    - Xóa hàng trùng lặp\n",
        "  - Sử dụng dữ liệu trích xuất từ mô tả điền vào dữ liệu bị thiếu\n",
        "  - Kiểm tra, xử lý các cột định lượng\n",
        "    - Tổng quát các cột định lượng\n",
        "    - Xử lý cột price_per_m2\n",
        "    - Xử lý giá trị ngoại lai\n",
        "    - Tổng quan các cột định lượng sau khi xử lý\n",
        "  - Xử lý các cột định tính\n",
        "    - Tổng quan về các cột định tính\n",
        "    - Xử lý cột residential_purpose\n",
        "  -Các cột còn lại\n",
        "-3.Kết quả\n",
        "  - Lưu ý khi sử dụng dữ liệu đã xử lý ở giai đoạn sau của đồ án\n",
        "-4.Phân tích khám phá dữ liệu\n",
        "  - Phân tích khám phá dữ liệu chỉ một thuộc tính\n",
        "    - Cột diện tích\n",
        "    - Cột category\n",
        "    - Cột district\n",
        "    - Cột numbers_of_floors\n",
        "    - Cột date-posted\n",
        "    - Cột phone\n",
        "  - Phân tích khám phá dữ liệu của mối quan hệ giữa 2 thuộc tính\n",
        "    - Trung bình giá nhà theo các đặc điểm nội thất, tầng hầm, sân thượng\n",
        "    - Diện tích trung bình theo quận\n",
        "  - Phân tích khám phá dữ liệu của mối liên hệ giữa 3 thuộc tính\n",
        "    - Mối quan hệ giữa số tầng, giá trung bình, diện tích trung bình\n",
        "  - Tạo thang điểm đánh giá nhà"
      ]
    },
    {
      "cell_type": "markdown",
      "metadata": {
        "id": "ST9UvCiVB-z6"
      },
      "source": [
        "## **Mô tả tổng quan về dữ liệu về dữ liệu**"
      ]
    },
    {
      "cell_type": "code",
      "execution_count": 1,
      "metadata": {
        "id": "PXx-RzBQtgWO"
      },
      "outputs": [],
      "source": [
        "import pandas as pd\n",
        "\n",
        "merged_data = pd.read_csv('https://raw.githubusercontent.com/KhiemDangLe/Final-Project/main/1-CrawlData/raw_data_4_merged.csv')"
      ]
    },
    {
      "cell_type": "code",
      "execution_count": 2,
      "metadata": {
        "colab": {
          "base_uri": "https://localhost:8080/"
        },
        "id": "foR1_XZZtrZQ",
        "outputId": "ef92ef92-ba6a-4354-ce6c-17a1b9fb773c"
      },
      "outputs": [
        {
          "name": "stdout",
          "output_type": "stream",
          "text": [
            "<class 'pandas.core.frame.DataFrame'>\n",
            "RangeIndex: 11044 entries, 0 to 11043\n",
            "Data columns (total 29 columns):\n",
            " #   Column               Non-Null Count  Dtype  \n",
            "---  ------               --------------  -----  \n",
            " 0   page_link            11044 non-null  object \n",
            " 1   title                11043 non-null  object \n",
            " 2   article_id           11043 non-null  float64\n",
            " 3   category             11043 non-null  object \n",
            " 4   phone                11042 non-null  float64\n",
            " 5   district             11043 non-null  object \n",
            " 6   date_posted          11043 non-null  object \n",
            " 7   area                 10505 non-null  float64\n",
            " 8   bedroom              6797 non-null   float64\n",
            " 9   wc                   6463 non-null   float64\n",
            " 10  direction            1528 non-null   object \n",
            " 11  balcony_direction    997 non-null    object \n",
            " 12  description          11043 non-null  object \n",
            " 13  is_real_estate_post  11036 non-null  float64\n",
            " 14  area_LLM             10197 non-null  float64\n",
            " 15  bedroom_LLM          7466 non-null   float64\n",
            " 16  total_room_LLm       4757 non-null   float64\n",
            " 17  wc_LLM               5780 non-null   float64\n",
            " 18  count_conveniences   11044 non-null  int64  \n",
            " 19  alleyway_property    7484 non-null   float64\n",
            " 20  under_mortgage       1809 non-null   float64\n",
            " 21  residential_purpose  4345 non-null   float64\n",
            " 22  furnished            2708 non-null   float64\n",
            " 23  has_lowerlevel       2652 non-null   float64\n",
            " 24  has_rooftop          3292 non-null   float64\n",
            " 25  numbers_of_floors    9687 non-null   float64\n",
            " 26  street_name          10102 non-null  object \n",
            " 27  price                11043 non-null  float64\n",
            " 28  price_per_m2         10505 non-null  float64\n",
            "dtypes: float64(19), int64(1), object(9)\n",
            "memory usage: 2.4+ MB\n"
          ]
        }
      ],
      "source": [
        "merged_data.info()"
      ]
    },
    {
      "cell_type": "code",
      "execution_count": 3,
      "metadata": {
        "colab": {
          "base_uri": "https://localhost:8080/",
          "height": 320
        },
        "id": "_FXEfwCKx4bx",
        "outputId": "2953cfe8-2919-4b9d-a2dd-24cf3fc06014"
      },
      "outputs": [
        {
          "data": {
            "application/vnd.google.colaboratory.intrinsic+json": {
              "summary": "{\n  \"name\": \"merged_data\",\n  \"rows\": 8,\n  \"fields\": [\n    {\n      \"column\": \"article_id\",\n      \"properties\": {\n        \"dtype\": \"number\",\n        \"std\": 119580.81814164064,\n        \"min\": 10131.328289326633,\n        \"max\": 285164.0,\n        \"num_unique_values\": 8,\n        \"samples\": [\n          267908.9481119261,\n          268060.0,\n          11043.0\n        ],\n        \"semantic_type\": \"\",\n        \"description\": \"\"\n      }\n    },\n    {\n      \"column\": \"phone\",\n      \"properties\": {\n        \"dtype\": \"number\",\n        \"std\": 29776419467.61119,\n        \"min\": 11042.0,\n        \"max\": 84979213626.0,\n        \"num_unique_values\": 8,\n        \"samples\": [\n          871654902.3966672,\n          905713956.0,\n          11042.0\n        ],\n        \"semantic_type\": \"\",\n        \"description\": \"\"\n      }\n    },\n    {\n      \"column\": \"area\",\n      \"properties\": {\n        \"dtype\": \"number\",\n        \"std\": 124838.76120477603,\n        \"min\": 1.0,\n        \"max\": 355000.0,\n        \"num_unique_values\": 8,\n        \"samples\": [\n          154.00497382198952,\n          63.0,\n          10505.0\n        ],\n        \"semantic_type\": \"\",\n        \"description\": \"\"\n      }\n    },\n    {\n      \"column\": \"bedroom\",\n      \"properties\": {\n        \"dtype\": \"number\",\n        \"std\": 2396.1916656445474,\n        \"min\": 1.0,\n        \"max\": 6797.0,\n        \"num_unique_values\": 8,\n        \"samples\": [\n          3.531116669118729,\n          3.0,\n          6797.0\n        ],\n        \"semantic_type\": \"\",\n        \"description\": \"\"\n      }\n    },\n    {\n      \"column\": \"wc\",\n      \"properties\": {\n        \"dtype\": \"number\",\n        \"std\": 2278.1415583840685,\n        \"min\": 1.0,\n        \"max\": 6463.0,\n        \"num_unique_values\": 8,\n        \"samples\": [\n          3.367476404146681,\n          3.0,\n          6463.0\n        ],\n        \"semantic_type\": \"\",\n        \"description\": \"\"\n      }\n    },\n    {\n      \"column\": \"is_real_estate_post\",\n      \"properties\": {\n        \"dtype\": \"number\",\n        \"std\": 3901.560913406579,\n        \"min\": 0.0,\n        \"max\": 11036.0,\n        \"num_unique_values\": 5,\n        \"samples\": [\n          0.9986408118883654,\n          1.0,\n          0.03684377454263816\n        ],\n        \"semantic_type\": \"\",\n        \"description\": \"\"\n      }\n    },\n    {\n      \"column\": \"area_LLM\",\n      \"properties\": {\n        \"dtype\": \"number\",\n        \"std\": 12317.738168403946,\n        \"min\": 0.0,\n        \"max\": 35000.0,\n        \"num_unique_values\": 8,\n        \"samples\": [\n          128.39124673923703,\n          64.0,\n          10197.0\n        ],\n        \"semantic_type\": \"\",\n        \"description\": \"\"\n      }\n    },\n    {\n      \"column\": \"bedroom_LLM\",\n      \"properties\": {\n        \"dtype\": \"number\",\n        \"std\": 2633.155132574961,\n        \"min\": 0.0,\n        \"max\": 7466.0,\n        \"num_unique_values\": 8,\n        \"samples\": [\n          3.5768818644521834,\n          3.0,\n          7466.0\n        ],\n        \"semantic_type\": \"\",\n        \"description\": \"\"\n      }\n    },\n    {\n      \"column\": \"total_room_LLm\",\n      \"properties\": {\n        \"dtype\": \"number\",\n        \"std\": 1677.311541132865,\n        \"min\": 0.0,\n        \"max\": 4757.0,\n        \"num_unique_values\": 8,\n        \"samples\": [\n          4.591969728820685,\n          4.0,\n          4757.0\n        ],\n        \"semantic_type\": \"\",\n        \"description\": \"\"\n      }\n    },\n    {\n      \"column\": \"wc_LLM\",\n      \"properties\": {\n        \"dtype\": \"number\",\n        \"std\": 2040.4696009705747,\n        \"min\": 0.0,\n        \"max\": 5780.0,\n        \"num_unique_values\": 8,\n        \"samples\": [\n          3.1060553633217993,\n          3.0,\n          5780.0\n        ],\n        \"semantic_type\": \"\",\n        \"description\": \"\"\n      }\n    },\n    {\n      \"column\": \"count_conveniences\",\n      \"properties\": {\n        \"dtype\": \"number\",\n        \"std\": 3903.5604535107304,\n        \"min\": 0.0,\n        \"max\": 11044.0,\n        \"num_unique_values\": 7,\n        \"samples\": [\n          11044.0,\n          1.6351865266207897,\n          3.0\n        ],\n        \"semantic_type\": \"\",\n        \"description\": \"\"\n      }\n    },\n    {\n      \"column\": \"alleyway_property\",\n      \"properties\": {\n        \"dtype\": \"number\",\n        \"std\": 2645.7380382671577,\n        \"min\": 0.0,\n        \"max\": 7484.0,\n        \"num_unique_values\": 5,\n        \"samples\": [\n          0.9958578300374131,\n          1.0,\n          0.06423055068845814\n        ],\n        \"semantic_type\": \"\",\n        \"description\": \"\"\n      }\n    },\n    {\n      \"column\": \"under_mortgage\",\n      \"properties\": {\n        \"dtype\": \"number\",\n        \"std\": 639.4276417548405,\n        \"min\": 0.0,\n        \"max\": 1809.0,\n        \"num_unique_values\": 5,\n        \"samples\": [\n          0.48148148148148145,\n          1.0,\n          0.49979510715035247\n        ],\n        \"semantic_type\": \"\",\n        \"description\": \"\"\n      }\n    },\n    {\n      \"column\": \"residential_purpose\",\n      \"properties\": {\n        \"dtype\": \"number\",\n        \"std\": 1535.935522980991,\n        \"min\": 0.0,\n        \"max\": 4345.0,\n        \"num_unique_values\": 5,\n        \"samples\": [\n          0.9990794016110471,\n          1.0,\n          0.030330885522594917\n        ],\n        \"semantic_type\": \"\",\n        \"description\": \"\"\n      }\n    },\n    {\n      \"column\": \"furnished\",\n      \"properties\": {\n        \"dtype\": \"number\",\n        \"std\": 957.2114605576184,\n        \"min\": 0.0,\n        \"max\": 2708.0,\n        \"num_unique_values\": 5,\n        \"samples\": [\n          0.7470457902511078,\n          1.0,\n          0.4347852168890648\n        ],\n        \"semantic_type\": \"\",\n        \"description\": \"\"\n      }\n    },\n    {\n      \"column\": \"has_lowerlevel\",\n      \"properties\": {\n        \"dtype\": \"number\",\n        \"std\": 937.3616299402955,\n        \"min\": 0.0,\n        \"max\": 2652.0,\n        \"num_unique_values\": 5,\n        \"samples\": [\n          0.7620663650075414,\n          1.0,\n          0.4258986001661044\n        ],\n        \"semantic_type\": \"\",\n        \"description\": \"\"\n      }\n    },\n    {\n      \"column\": \"has_rooftop\",\n      \"properties\": {\n        \"dtype\": \"number\",\n        \"std\": 1163.6348536714245,\n        \"min\": 0.0,\n        \"max\": 3292.0,\n        \"num_unique_values\": 5,\n        \"samples\": [\n          0.8377885783718104,\n          1.0,\n          0.36870065150402376\n        ],\n        \"semantic_type\": \"\",\n        \"description\": \"\"\n      }\n    },\n    {\n      \"column\": \"numbers_of_floors\",\n      \"properties\": {\n        \"dtype\": \"number\",\n        \"std\": 3422.2369414129375,\n        \"min\": 0.0,\n        \"max\": 9687.0,\n        \"num_unique_values\": 7,\n        \"samples\": [\n          9687.0,\n          2.805409311448333,\n          3.0\n        ],\n        \"semantic_type\": \"\",\n        \"description\": \"\"\n      }\n    },\n    {\n      \"column\": \"price\",\n      \"properties\": {\n        \"dtype\": \"number\",\n        \"std\": 3495069691284.3164,\n        \"min\": 11043.0,\n        \"max\": 9990000000000.0,\n        \"num_unique_values\": 8,\n        \"samples\": [\n          145513605160.0779,\n          5600000000.0,\n          11043.0\n        ],\n        \"semantic_type\": \"\",\n        \"description\": \"\"\n      }\n    },\n    {\n      \"column\": \"price_per_m2\",\n      \"properties\": {\n        \"dtype\": \"number\",\n        \"std\": 95280491756.05594,\n        \"min\": 7000.0,\n        \"max\": 271428571428.57144,\n        \"num_unique_values\": 8,\n        \"samples\": [\n          2380565738.6467237,\n          94000000.0,\n          10505.0\n        ],\n        \"semantic_type\": \"\",\n        \"description\": \"\"\n      }\n    }\n  ]\n}",
              "type": "dataframe"
            },
            "text/html": [
              "\n",
              "  <div id=\"df-8614c9ce-0f07-48c9-a49e-093fcb926889\" class=\"colab-df-container\">\n",
              "    <div>\n",
              "<style scoped>\n",
              "    .dataframe tbody tr th:only-of-type {\n",
              "        vertical-align: middle;\n",
              "    }\n",
              "\n",
              "    .dataframe tbody tr th {\n",
              "        vertical-align: top;\n",
              "    }\n",
              "\n",
              "    .dataframe thead th {\n",
              "        text-align: right;\n",
              "    }\n",
              "</style>\n",
              "<table border=\"1\" class=\"dataframe\">\n",
              "  <thead>\n",
              "    <tr style=\"text-align: right;\">\n",
              "      <th></th>\n",
              "      <th>article_id</th>\n",
              "      <th>phone</th>\n",
              "      <th>area</th>\n",
              "      <th>bedroom</th>\n",
              "      <th>wc</th>\n",
              "      <th>is_real_estate_post</th>\n",
              "      <th>area_LLM</th>\n",
              "      <th>bedroom_LLM</th>\n",
              "      <th>total_room_LLm</th>\n",
              "      <th>wc_LLM</th>\n",
              "      <th>count_conveniences</th>\n",
              "      <th>alleyway_property</th>\n",
              "      <th>under_mortgage</th>\n",
              "      <th>residential_purpose</th>\n",
              "      <th>furnished</th>\n",
              "      <th>has_lowerlevel</th>\n",
              "      <th>has_rooftop</th>\n",
              "      <th>numbers_of_floors</th>\n",
              "      <th>price</th>\n",
              "      <th>price_per_m2</th>\n",
              "    </tr>\n",
              "  </thead>\n",
              "  <tbody>\n",
              "    <tr>\n",
              "      <th>count</th>\n",
              "      <td>11043.000000</td>\n",
              "      <td>1.104200e+04</td>\n",
              "      <td>10505.000000</td>\n",
              "      <td>6797.000000</td>\n",
              "      <td>6463.000000</td>\n",
              "      <td>11036.000000</td>\n",
              "      <td>10197.000000</td>\n",
              "      <td>7466.000000</td>\n",
              "      <td>4757.000000</td>\n",
              "      <td>5780.000000</td>\n",
              "      <td>11044.000000</td>\n",
              "      <td>7484.000000</td>\n",
              "      <td>1809.000000</td>\n",
              "      <td>4345.000000</td>\n",
              "      <td>2708.000000</td>\n",
              "      <td>2652.000000</td>\n",
              "      <td>3292.000000</td>\n",
              "      <td>9687.000000</td>\n",
              "      <td>1.104300e+04</td>\n",
              "      <td>1.050500e+04</td>\n",
              "    </tr>\n",
              "    <tr>\n",
              "      <th>mean</th>\n",
              "      <td>267908.948112</td>\n",
              "      <td>8.716549e+08</td>\n",
              "      <td>154.004974</td>\n",
              "      <td>3.531117</td>\n",
              "      <td>3.367476</td>\n",
              "      <td>0.998641</td>\n",
              "      <td>128.391247</td>\n",
              "      <td>3.576882</td>\n",
              "      <td>4.591970</td>\n",
              "      <td>3.106055</td>\n",
              "      <td>1.635187</td>\n",
              "      <td>0.995858</td>\n",
              "      <td>0.481481</td>\n",
              "      <td>0.999079</td>\n",
              "      <td>0.747046</td>\n",
              "      <td>0.762066</td>\n",
              "      <td>0.837789</td>\n",
              "      <td>2.805409</td>\n",
              "      <td>1.455136e+11</td>\n",
              "      <td>2.380566e+09</td>\n",
              "    </tr>\n",
              "    <tr>\n",
              "      <th>std</th>\n",
              "      <td>10131.328289</td>\n",
              "      <td>1.800757e+09</td>\n",
              "      <td>3516.048471</td>\n",
              "      <td>4.085798</td>\n",
              "      <td>3.932781</td>\n",
              "      <td>0.036844</td>\n",
              "      <td>728.782593</td>\n",
              "      <td>3.735788</td>\n",
              "      <td>2.964147</td>\n",
              "      <td>1.902448</td>\n",
              "      <td>1.863862</td>\n",
              "      <td>0.064231</td>\n",
              "      <td>0.499795</td>\n",
              "      <td>0.030331</td>\n",
              "      <td>0.434785</td>\n",
              "      <td>0.425899</td>\n",
              "      <td>0.368701</td>\n",
              "      <td>2.871107</td>\n",
              "      <td>7.601166e+11</td>\n",
              "      <td>1.292328e+10</td>\n",
              "    </tr>\n",
              "    <tr>\n",
              "      <th>min</th>\n",
              "      <td>250296.000000</td>\n",
              "      <td>3.697474e+07</td>\n",
              "      <td>1.000000</td>\n",
              "      <td>1.000000</td>\n",
              "      <td>1.000000</td>\n",
              "      <td>0.000000</td>\n",
              "      <td>0.000000</td>\n",
              "      <td>0.000000</td>\n",
              "      <td>0.000000</td>\n",
              "      <td>0.000000</td>\n",
              "      <td>0.000000</td>\n",
              "      <td>0.000000</td>\n",
              "      <td>0.000000</td>\n",
              "      <td>0.000000</td>\n",
              "      <td>0.000000</td>\n",
              "      <td>0.000000</td>\n",
              "      <td>0.000000</td>\n",
              "      <td>0.000000</td>\n",
              "      <td>1.225000e+06</td>\n",
              "      <td>7.000000e+03</td>\n",
              "    </tr>\n",
              "    <tr>\n",
              "      <th>25%</th>\n",
              "      <td>258940.500000</td>\n",
              "      <td>8.655816e+08</td>\n",
              "      <td>48.000000</td>\n",
              "      <td>2.000000</td>\n",
              "      <td>2.000000</td>\n",
              "      <td>1.000000</td>\n",
              "      <td>48.000000</td>\n",
              "      <td>2.000000</td>\n",
              "      <td>3.000000</td>\n",
              "      <td>2.000000</td>\n",
              "      <td>0.000000</td>\n",
              "      <td>1.000000</td>\n",
              "      <td>0.000000</td>\n",
              "      <td>1.000000</td>\n",
              "      <td>0.000000</td>\n",
              "      <td>1.000000</td>\n",
              "      <td>1.000000</td>\n",
              "      <td>2.000000</td>\n",
              "      <td>3.700000e+09</td>\n",
              "      <td>5.937500e+07</td>\n",
              "    </tr>\n",
              "    <tr>\n",
              "      <th>50%</th>\n",
              "      <td>268060.000000</td>\n",
              "      <td>9.057140e+08</td>\n",
              "      <td>63.000000</td>\n",
              "      <td>3.000000</td>\n",
              "      <td>3.000000</td>\n",
              "      <td>1.000000</td>\n",
              "      <td>64.000000</td>\n",
              "      <td>3.000000</td>\n",
              "      <td>4.000000</td>\n",
              "      <td>3.000000</td>\n",
              "      <td>1.000000</td>\n",
              "      <td>1.000000</td>\n",
              "      <td>0.000000</td>\n",
              "      <td>1.000000</td>\n",
              "      <td>1.000000</td>\n",
              "      <td>1.000000</td>\n",
              "      <td>1.000000</td>\n",
              "      <td>2.000000</td>\n",
              "      <td>5.600000e+09</td>\n",
              "      <td>9.400000e+07</td>\n",
              "    </tr>\n",
              "    <tr>\n",
              "      <th>75%</th>\n",
              "      <td>277099.500000</td>\n",
              "      <td>9.380594e+08</td>\n",
              "      <td>88.000000</td>\n",
              "      <td>4.000000</td>\n",
              "      <td>4.000000</td>\n",
              "      <td>1.000000</td>\n",
              "      <td>90.000000</td>\n",
              "      <td>4.000000</td>\n",
              "      <td>5.000000</td>\n",
              "      <td>4.000000</td>\n",
              "      <td>3.000000</td>\n",
              "      <td>1.000000</td>\n",
              "      <td>1.000000</td>\n",
              "      <td>1.000000</td>\n",
              "      <td>1.000000</td>\n",
              "      <td>1.000000</td>\n",
              "      <td>1.000000</td>\n",
              "      <td>3.000000</td>\n",
              "      <td>9.500000e+09</td>\n",
              "      <td>1.343750e+08</td>\n",
              "    </tr>\n",
              "    <tr>\n",
              "      <th>max</th>\n",
              "      <td>285164.000000</td>\n",
              "      <td>8.497921e+10</td>\n",
              "      <td>355000.000000</td>\n",
              "      <td>127.000000</td>\n",
              "      <td>127.000000</td>\n",
              "      <td>1.000000</td>\n",
              "      <td>35000.000000</td>\n",
              "      <td>118.000000</td>\n",
              "      <td>74.000000</td>\n",
              "      <td>48.000000</td>\n",
              "      <td>14.000000</td>\n",
              "      <td>1.000000</td>\n",
              "      <td>1.000000</td>\n",
              "      <td>1.000000</td>\n",
              "      <td>1.000000</td>\n",
              "      <td>1.000000</td>\n",
              "      <td>1.000000</td>\n",
              "      <td>40.000000</td>\n",
              "      <td>9.990000e+12</td>\n",
              "      <td>2.714286e+11</td>\n",
              "    </tr>\n",
              "  </tbody>\n",
              "</table>\n",
              "</div>\n",
              "    <div class=\"colab-df-buttons\">\n",
              "\n",
              "  <div class=\"colab-df-container\">\n",
              "    <button class=\"colab-df-convert\" onclick=\"convertToInteractive('df-8614c9ce-0f07-48c9-a49e-093fcb926889')\"\n",
              "            title=\"Convert this dataframe to an interactive table.\"\n",
              "            style=\"display:none;\">\n",
              "\n",
              "  <svg xmlns=\"http://www.w3.org/2000/svg\" height=\"24px\" viewBox=\"0 -960 960 960\">\n",
              "    <path d=\"M120-120v-720h720v720H120Zm60-500h600v-160H180v160Zm220 220h160v-160H400v160Zm0 220h160v-160H400v160ZM180-400h160v-160H180v160Zm440 0h160v-160H620v160ZM180-180h160v-160H180v160Zm440 0h160v-160H620v160Z\"/>\n",
              "  </svg>\n",
              "    </button>\n",
              "\n",
              "  <style>\n",
              "    .colab-df-container {\n",
              "      display:flex;\n",
              "      gap: 12px;\n",
              "    }\n",
              "\n",
              "    .colab-df-convert {\n",
              "      background-color: #E8F0FE;\n",
              "      border: none;\n",
              "      border-radius: 50%;\n",
              "      cursor: pointer;\n",
              "      display: none;\n",
              "      fill: #1967D2;\n",
              "      height: 32px;\n",
              "      padding: 0 0 0 0;\n",
              "      width: 32px;\n",
              "    }\n",
              "\n",
              "    .colab-df-convert:hover {\n",
              "      background-color: #E2EBFA;\n",
              "      box-shadow: 0px 1px 2px rgba(60, 64, 67, 0.3), 0px 1px 3px 1px rgba(60, 64, 67, 0.15);\n",
              "      fill: #174EA6;\n",
              "    }\n",
              "\n",
              "    .colab-df-buttons div {\n",
              "      margin-bottom: 4px;\n",
              "    }\n",
              "\n",
              "    [theme=dark] .colab-df-convert {\n",
              "      background-color: #3B4455;\n",
              "      fill: #D2E3FC;\n",
              "    }\n",
              "\n",
              "    [theme=dark] .colab-df-convert:hover {\n",
              "      background-color: #434B5C;\n",
              "      box-shadow: 0px 1px 3px 1px rgba(0, 0, 0, 0.15);\n",
              "      filter: drop-shadow(0px 1px 2px rgba(0, 0, 0, 0.3));\n",
              "      fill: #FFFFFF;\n",
              "    }\n",
              "  </style>\n",
              "\n",
              "    <script>\n",
              "      const buttonEl =\n",
              "        document.querySelector('#df-8614c9ce-0f07-48c9-a49e-093fcb926889 button.colab-df-convert');\n",
              "      buttonEl.style.display =\n",
              "        google.colab.kernel.accessAllowed ? 'block' : 'none';\n",
              "\n",
              "      async function convertToInteractive(key) {\n",
              "        const element = document.querySelector('#df-8614c9ce-0f07-48c9-a49e-093fcb926889');\n",
              "        const dataTable =\n",
              "          await google.colab.kernel.invokeFunction('convertToInteractive',\n",
              "                                                    [key], {});\n",
              "        if (!dataTable) return;\n",
              "\n",
              "        const docLinkHtml = 'Like what you see? Visit the ' +\n",
              "          '<a target=\"_blank\" href=https://colab.research.google.com/notebooks/data_table.ipynb>data table notebook</a>'\n",
              "          + ' to learn more about interactive tables.';\n",
              "        element.innerHTML = '';\n",
              "        dataTable['output_type'] = 'display_data';\n",
              "        await google.colab.output.renderOutput(dataTable, element);\n",
              "        const docLink = document.createElement('div');\n",
              "        docLink.innerHTML = docLinkHtml;\n",
              "        element.appendChild(docLink);\n",
              "      }\n",
              "    </script>\n",
              "  </div>\n",
              "\n",
              "\n",
              "<div id=\"df-fab0acea-7dbb-4133-8c92-bc5194256138\">\n",
              "  <button class=\"colab-df-quickchart\" onclick=\"quickchart('df-fab0acea-7dbb-4133-8c92-bc5194256138')\"\n",
              "            title=\"Suggest charts\"\n",
              "            style=\"display:none;\">\n",
              "\n",
              "<svg xmlns=\"http://www.w3.org/2000/svg\" height=\"24px\"viewBox=\"0 0 24 24\"\n",
              "     width=\"24px\">\n",
              "    <g>\n",
              "        <path d=\"M19 3H5c-1.1 0-2 .9-2 2v14c0 1.1.9 2 2 2h14c1.1 0 2-.9 2-2V5c0-1.1-.9-2-2-2zM9 17H7v-7h2v7zm4 0h-2V7h2v10zm4 0h-2v-4h2v4z\"/>\n",
              "    </g>\n",
              "</svg>\n",
              "  </button>\n",
              "\n",
              "<style>\n",
              "  .colab-df-quickchart {\n",
              "      --bg-color: #E8F0FE;\n",
              "      --fill-color: #1967D2;\n",
              "      --hover-bg-color: #E2EBFA;\n",
              "      --hover-fill-color: #174EA6;\n",
              "      --disabled-fill-color: #AAA;\n",
              "      --disabled-bg-color: #DDD;\n",
              "  }\n",
              "\n",
              "  [theme=dark] .colab-df-quickchart {\n",
              "      --bg-color: #3B4455;\n",
              "      --fill-color: #D2E3FC;\n",
              "      --hover-bg-color: #434B5C;\n",
              "      --hover-fill-color: #FFFFFF;\n",
              "      --disabled-bg-color: #3B4455;\n",
              "      --disabled-fill-color: #666;\n",
              "  }\n",
              "\n",
              "  .colab-df-quickchart {\n",
              "    background-color: var(--bg-color);\n",
              "    border: none;\n",
              "    border-radius: 50%;\n",
              "    cursor: pointer;\n",
              "    display: none;\n",
              "    fill: var(--fill-color);\n",
              "    height: 32px;\n",
              "    padding: 0;\n",
              "    width: 32px;\n",
              "  }\n",
              "\n",
              "  .colab-df-quickchart:hover {\n",
              "    background-color: var(--hover-bg-color);\n",
              "    box-shadow: 0 1px 2px rgba(60, 64, 67, 0.3), 0 1px 3px 1px rgba(60, 64, 67, 0.15);\n",
              "    fill: var(--button-hover-fill-color);\n",
              "  }\n",
              "\n",
              "  .colab-df-quickchart-complete:disabled,\n",
              "  .colab-df-quickchart-complete:disabled:hover {\n",
              "    background-color: var(--disabled-bg-color);\n",
              "    fill: var(--disabled-fill-color);\n",
              "    box-shadow: none;\n",
              "  }\n",
              "\n",
              "  .colab-df-spinner {\n",
              "    border: 2px solid var(--fill-color);\n",
              "    border-color: transparent;\n",
              "    border-bottom-color: var(--fill-color);\n",
              "    animation:\n",
              "      spin 1s steps(1) infinite;\n",
              "  }\n",
              "\n",
              "  @keyframes spin {\n",
              "    0% {\n",
              "      border-color: transparent;\n",
              "      border-bottom-color: var(--fill-color);\n",
              "      border-left-color: var(--fill-color);\n",
              "    }\n",
              "    20% {\n",
              "      border-color: transparent;\n",
              "      border-left-color: var(--fill-color);\n",
              "      border-top-color: var(--fill-color);\n",
              "    }\n",
              "    30% {\n",
              "      border-color: transparent;\n",
              "      border-left-color: var(--fill-color);\n",
              "      border-top-color: var(--fill-color);\n",
              "      border-right-color: var(--fill-color);\n",
              "    }\n",
              "    40% {\n",
              "      border-color: transparent;\n",
              "      border-right-color: var(--fill-color);\n",
              "      border-top-color: var(--fill-color);\n",
              "    }\n",
              "    60% {\n",
              "      border-color: transparent;\n",
              "      border-right-color: var(--fill-color);\n",
              "    }\n",
              "    80% {\n",
              "      border-color: transparent;\n",
              "      border-right-color: var(--fill-color);\n",
              "      border-bottom-color: var(--fill-color);\n",
              "    }\n",
              "    90% {\n",
              "      border-color: transparent;\n",
              "      border-bottom-color: var(--fill-color);\n",
              "    }\n",
              "  }\n",
              "</style>\n",
              "\n",
              "  <script>\n",
              "    async function quickchart(key) {\n",
              "      const quickchartButtonEl =\n",
              "        document.querySelector('#' + key + ' button');\n",
              "      quickchartButtonEl.disabled = true;  // To prevent multiple clicks.\n",
              "      quickchartButtonEl.classList.add('colab-df-spinner');\n",
              "      try {\n",
              "        const charts = await google.colab.kernel.invokeFunction(\n",
              "            'suggestCharts', [key], {});\n",
              "      } catch (error) {\n",
              "        console.error('Error during call to suggestCharts:', error);\n",
              "      }\n",
              "      quickchartButtonEl.classList.remove('colab-df-spinner');\n",
              "      quickchartButtonEl.classList.add('colab-df-quickchart-complete');\n",
              "    }\n",
              "    (() => {\n",
              "      let quickchartButtonEl =\n",
              "        document.querySelector('#df-fab0acea-7dbb-4133-8c92-bc5194256138 button');\n",
              "      quickchartButtonEl.style.display =\n",
              "        google.colab.kernel.accessAllowed ? 'block' : 'none';\n",
              "    })();\n",
              "  </script>\n",
              "</div>\n",
              "\n",
              "    </div>\n",
              "  </div>\n"
            ],
            "text/plain": [
              "          article_id         phone           area      bedroom           wc  \\\n",
              "count   11043.000000  1.104200e+04   10505.000000  6797.000000  6463.000000   \n",
              "mean   267908.948112  8.716549e+08     154.004974     3.531117     3.367476   \n",
              "std     10131.328289  1.800757e+09    3516.048471     4.085798     3.932781   \n",
              "min    250296.000000  3.697474e+07       1.000000     1.000000     1.000000   \n",
              "25%    258940.500000  8.655816e+08      48.000000     2.000000     2.000000   \n",
              "50%    268060.000000  9.057140e+08      63.000000     3.000000     3.000000   \n",
              "75%    277099.500000  9.380594e+08      88.000000     4.000000     4.000000   \n",
              "max    285164.000000  8.497921e+10  355000.000000   127.000000   127.000000   \n",
              "\n",
              "       is_real_estate_post      area_LLM  bedroom_LLM  total_room_LLm  \\\n",
              "count         11036.000000  10197.000000  7466.000000     4757.000000   \n",
              "mean              0.998641    128.391247     3.576882        4.591970   \n",
              "std               0.036844    728.782593     3.735788        2.964147   \n",
              "min               0.000000      0.000000     0.000000        0.000000   \n",
              "25%               1.000000     48.000000     2.000000        3.000000   \n",
              "50%               1.000000     64.000000     3.000000        4.000000   \n",
              "75%               1.000000     90.000000     4.000000        5.000000   \n",
              "max               1.000000  35000.000000   118.000000       74.000000   \n",
              "\n",
              "            wc_LLM  count_conveniences  alleyway_property  under_mortgage  \\\n",
              "count  5780.000000        11044.000000        7484.000000     1809.000000   \n",
              "mean      3.106055            1.635187           0.995858        0.481481   \n",
              "std       1.902448            1.863862           0.064231        0.499795   \n",
              "min       0.000000            0.000000           0.000000        0.000000   \n",
              "25%       2.000000            0.000000           1.000000        0.000000   \n",
              "50%       3.000000            1.000000           1.000000        0.000000   \n",
              "75%       4.000000            3.000000           1.000000        1.000000   \n",
              "max      48.000000           14.000000           1.000000        1.000000   \n",
              "\n",
              "       residential_purpose    furnished  has_lowerlevel  has_rooftop  \\\n",
              "count          4345.000000  2708.000000     2652.000000  3292.000000   \n",
              "mean              0.999079     0.747046        0.762066     0.837789   \n",
              "std               0.030331     0.434785        0.425899     0.368701   \n",
              "min               0.000000     0.000000        0.000000     0.000000   \n",
              "25%               1.000000     0.000000        1.000000     1.000000   \n",
              "50%               1.000000     1.000000        1.000000     1.000000   \n",
              "75%               1.000000     1.000000        1.000000     1.000000   \n",
              "max               1.000000     1.000000        1.000000     1.000000   \n",
              "\n",
              "       numbers_of_floors         price  price_per_m2  \n",
              "count        9687.000000  1.104300e+04  1.050500e+04  \n",
              "mean            2.805409  1.455136e+11  2.380566e+09  \n",
              "std             2.871107  7.601166e+11  1.292328e+10  \n",
              "min             0.000000  1.225000e+06  7.000000e+03  \n",
              "25%             2.000000  3.700000e+09  5.937500e+07  \n",
              "50%             2.000000  5.600000e+09  9.400000e+07  \n",
              "75%             3.000000  9.500000e+09  1.343750e+08  \n",
              "max            40.000000  9.990000e+12  2.714286e+11  "
            ]
          },
          "execution_count": 3,
          "metadata": {},
          "output_type": "execute_result"
        }
      ],
      "source": [
        "merged_data.describe()"
      ]
    },
    {
      "cell_type": "markdown",
      "metadata": {
        "id": "DTnw-UCrCRvJ"
      },
      "source": [
        "# **Tiến hành tiền phân tích xữ lí dữ liệu**"
      ]
    },
    {
      "cell_type": "markdown",
      "metadata": {
        "id": "ZW75fYIP4k2j"
      },
      "source": [
        "## **Xử lý các bài đăng không phù hợp**"
      ]
    },
    {
      "cell_type": "markdown",
      "metadata": {
        "id": "GfK0zhcFzWSb"
      },
      "source": [
        "##### **Xóa hàng thiếu dữ liệu**"
      ]
    },
    {
      "cell_type": "code",
      "execution_count": 4,
      "metadata": {
        "colab": {
          "base_uri": "https://localhost:8080/",
          "height": 147
        },
        "id": "M4FRUq0dCYtZ",
        "outputId": "de4cb0c7-7bae-44a2-f01c-4157ba015885"
      },
      "outputs": [
        {
          "data": {
            "application/vnd.google.colaboratory.intrinsic+json": {
              "type": "dataframe"
            },
            "text/html": [
              "\n",
              "  <div id=\"df-6b44254f-6260-400f-a399-dfddca73844e\" class=\"colab-df-container\">\n",
              "    <div>\n",
              "<style scoped>\n",
              "    .dataframe tbody tr th:only-of-type {\n",
              "        vertical-align: middle;\n",
              "    }\n",
              "\n",
              "    .dataframe tbody tr th {\n",
              "        vertical-align: top;\n",
              "    }\n",
              "\n",
              "    .dataframe thead th {\n",
              "        text-align: right;\n",
              "    }\n",
              "</style>\n",
              "<table border=\"1\" class=\"dataframe\">\n",
              "  <thead>\n",
              "    <tr style=\"text-align: right;\">\n",
              "      <th></th>\n",
              "      <th>page_link</th>\n",
              "      <th>title</th>\n",
              "      <th>article_id</th>\n",
              "      <th>category</th>\n",
              "      <th>phone</th>\n",
              "      <th>district</th>\n",
              "      <th>date_posted</th>\n",
              "      <th>area</th>\n",
              "      <th>bedroom</th>\n",
              "      <th>wc</th>\n",
              "      <th>...</th>\n",
              "      <th>alleyway_property</th>\n",
              "      <th>under_mortgage</th>\n",
              "      <th>residential_purpose</th>\n",
              "      <th>furnished</th>\n",
              "      <th>has_lowerlevel</th>\n",
              "      <th>has_rooftop</th>\n",
              "      <th>numbers_of_floors</th>\n",
              "      <th>street_name</th>\n",
              "      <th>price</th>\n",
              "      <th>price_per_m2</th>\n",
              "    </tr>\n",
              "  </thead>\n",
              "  <tbody>\n",
              "    <tr>\n",
              "      <th>2896</th>\n",
              "      <td>https://batdongsan.vn/du-an-picity-sky-park-ng...</td>\n",
              "      <td>NaN</td>\n",
              "      <td>NaN</td>\n",
              "      <td>NaN</td>\n",
              "      <td>NaN</td>\n",
              "      <td>NaN</td>\n",
              "      <td>NaN</td>\n",
              "      <td>NaN</td>\n",
              "      <td>NaN</td>\n",
              "      <td>NaN</td>\n",
              "      <td>...</td>\n",
              "      <td>NaN</td>\n",
              "      <td>NaN</td>\n",
              "      <td>NaN</td>\n",
              "      <td>NaN</td>\n",
              "      <td>NaN</td>\n",
              "      <td>NaN</td>\n",
              "      <td>0.0</td>\n",
              "      <td>NaN</td>\n",
              "      <td>NaN</td>\n",
              "      <td>NaN</td>\n",
              "    </tr>\n",
              "  </tbody>\n",
              "</table>\n",
              "<p>1 rows × 29 columns</p>\n",
              "</div>\n",
              "    <div class=\"colab-df-buttons\">\n",
              "\n",
              "  <div class=\"colab-df-container\">\n",
              "    <button class=\"colab-df-convert\" onclick=\"convertToInteractive('df-6b44254f-6260-400f-a399-dfddca73844e')\"\n",
              "            title=\"Convert this dataframe to an interactive table.\"\n",
              "            style=\"display:none;\">\n",
              "\n",
              "  <svg xmlns=\"http://www.w3.org/2000/svg\" height=\"24px\" viewBox=\"0 -960 960 960\">\n",
              "    <path d=\"M120-120v-720h720v720H120Zm60-500h600v-160H180v160Zm220 220h160v-160H400v160Zm0 220h160v-160H400v160ZM180-400h160v-160H180v160Zm440 0h160v-160H620v160ZM180-180h160v-160H180v160Zm440 0h160v-160H620v160Z\"/>\n",
              "  </svg>\n",
              "    </button>\n",
              "\n",
              "  <style>\n",
              "    .colab-df-container {\n",
              "      display:flex;\n",
              "      gap: 12px;\n",
              "    }\n",
              "\n",
              "    .colab-df-convert {\n",
              "      background-color: #E8F0FE;\n",
              "      border: none;\n",
              "      border-radius: 50%;\n",
              "      cursor: pointer;\n",
              "      display: none;\n",
              "      fill: #1967D2;\n",
              "      height: 32px;\n",
              "      padding: 0 0 0 0;\n",
              "      width: 32px;\n",
              "    }\n",
              "\n",
              "    .colab-df-convert:hover {\n",
              "      background-color: #E2EBFA;\n",
              "      box-shadow: 0px 1px 2px rgba(60, 64, 67, 0.3), 0px 1px 3px 1px rgba(60, 64, 67, 0.15);\n",
              "      fill: #174EA6;\n",
              "    }\n",
              "\n",
              "    .colab-df-buttons div {\n",
              "      margin-bottom: 4px;\n",
              "    }\n",
              "\n",
              "    [theme=dark] .colab-df-convert {\n",
              "      background-color: #3B4455;\n",
              "      fill: #D2E3FC;\n",
              "    }\n",
              "\n",
              "    [theme=dark] .colab-df-convert:hover {\n",
              "      background-color: #434B5C;\n",
              "      box-shadow: 0px 1px 3px 1px rgba(0, 0, 0, 0.15);\n",
              "      filter: drop-shadow(0px 1px 2px rgba(0, 0, 0, 0.3));\n",
              "      fill: #FFFFFF;\n",
              "    }\n",
              "  </style>\n",
              "\n",
              "    <script>\n",
              "      const buttonEl =\n",
              "        document.querySelector('#df-6b44254f-6260-400f-a399-dfddca73844e button.colab-df-convert');\n",
              "      buttonEl.style.display =\n",
              "        google.colab.kernel.accessAllowed ? 'block' : 'none';\n",
              "\n",
              "      async function convertToInteractive(key) {\n",
              "        const element = document.querySelector('#df-6b44254f-6260-400f-a399-dfddca73844e');\n",
              "        const dataTable =\n",
              "          await google.colab.kernel.invokeFunction('convertToInteractive',\n",
              "                                                    [key], {});\n",
              "        if (!dataTable) return;\n",
              "\n",
              "        const docLinkHtml = 'Like what you see? Visit the ' +\n",
              "          '<a target=\"_blank\" href=https://colab.research.google.com/notebooks/data_table.ipynb>data table notebook</a>'\n",
              "          + ' to learn more about interactive tables.';\n",
              "        element.innerHTML = '';\n",
              "        dataTable['output_type'] = 'display_data';\n",
              "        await google.colab.output.renderOutput(dataTable, element);\n",
              "        const docLink = document.createElement('div');\n",
              "        docLink.innerHTML = docLinkHtml;\n",
              "        element.appendChild(docLink);\n",
              "      }\n",
              "    </script>\n",
              "  </div>\n",
              "\n",
              "\n",
              "    </div>\n",
              "  </div>\n"
            ],
            "text/plain": [
              "                                              page_link title  article_id  \\\n",
              "2896  https://batdongsan.vn/du-an-picity-sky-park-ng...   NaN         NaN   \n",
              "\n",
              "     category  phone district date_posted  area  bedroom  wc  ...  \\\n",
              "2896      NaN    NaN      NaN         NaN   NaN      NaN NaN  ...   \n",
              "\n",
              "     alleyway_property under_mortgage residential_purpose  furnished  \\\n",
              "2896               NaN            NaN                 NaN        NaN   \n",
              "\n",
              "      has_lowerlevel  has_rooftop  numbers_of_floors  street_name  price  \\\n",
              "2896             NaN          NaN                0.0          NaN    NaN   \n",
              "\n",
              "      price_per_m2  \n",
              "2896           NaN  \n",
              "\n",
              "[1 rows x 29 columns]"
            ]
          },
          "execution_count": 4,
          "metadata": {},
          "output_type": "execute_result"
        }
      ],
      "source": [
        "merged_data[merged_data['title'].isnull()]"
      ]
    },
    {
      "cell_type": "code",
      "execution_count": 5,
      "metadata": {
        "id": "OsV6rN4_y0W_"
      },
      "outputs": [],
      "source": [
        "merged_data.dropna(subset=['title'], inplace=True)\n",
        "merged_data.reset_index(drop=True, inplace=True)"
      ]
    },
    {
      "cell_type": "markdown",
      "metadata": {
        "id": "5eeBhRLJzgyZ"
      },
      "source": [
        "##### **Xóa các bài viết bị đăng lại nhiều lần**"
      ]
    },
    {
      "cell_type": "code",
      "execution_count": 6,
      "metadata": {
        "colab": {
          "base_uri": "https://localhost:8080/"
        },
        "id": "T52ptrQT0eJC",
        "outputId": "d109e526-bbe8-41b2-a642-1fe5cc641ab5"
      },
      "outputs": [
        {
          "data": {
            "text/plain": [
              "(11043, 29)"
            ]
          },
          "execution_count": 6,
          "metadata": {},
          "output_type": "execute_result"
        }
      ],
      "source": [
        "merged_data.shape"
      ]
    },
    {
      "cell_type": "code",
      "execution_count": 7,
      "metadata": {
        "id": "G_JO6xzn0Ip5"
      },
      "outputs": [],
      "source": [
        "merged_data.drop_duplicates(subset=['phone', 'description'], inplace=True)\n",
        "merged_data.reset_index(drop=True, inplace=True)"
      ]
    },
    {
      "cell_type": "code",
      "execution_count": 8,
      "metadata": {
        "colab": {
          "base_uri": "https://localhost:8080/"
        },
        "id": "jTdL5PDr0Vfb",
        "outputId": "1e1c3b39-656e-47a7-caf1-53e8aa98b452"
      },
      "outputs": [
        {
          "data": {
            "text/plain": [
              "(9997, 29)"
            ]
          },
          "execution_count": 8,
          "metadata": {},
          "output_type": "execute_result"
        }
      ],
      "source": [
        "merged_data.shape"
      ]
    },
    {
      "cell_type": "markdown",
      "metadata": {
        "id": "kGpKyzginb96"
      },
      "source": [
        "##### **Xóa các bài đăng spam (dùng cột is_real_estate_post)**\n",
        "Trong những bài đăng về bất động sản, có một số bài chứa đựng nội dung không liên quan, ví dụ: quảng cáo, bán các sản phẩm khác,... Nhờ có mô hình LLM, ta có thể dễ dàng lọc ra những bài đăng không phù hợp."
      ]
    },
    {
      "cell_type": "code",
      "execution_count": 9,
      "metadata": {
        "colab": {
          "base_uri": "https://localhost:8080/"
        },
        "id": "BxA-yO-K1M1C",
        "outputId": "1f5dd94f-435f-476f-b4ca-0cc90af17e46"
      },
      "outputs": [
        {
          "data": {
            "text/plain": [
              "is_real_estate_post\n",
              "1.0    9979\n",
              "0.0      12\n",
              "Name: count, dtype: int64"
            ]
          },
          "execution_count": 9,
          "metadata": {},
          "output_type": "execute_result"
        }
      ],
      "source": [
        "merged_data['is_real_estate_post'].value_counts()"
      ]
    },
    {
      "cell_type": "code",
      "execution_count": 10,
      "metadata": {
        "id": "-kAaoqNn4Bv4"
      },
      "outputs": [],
      "source": [
        "merged_data.drop(index = merged_data[merged_data['is_real_estate_post'] == 0].index, inplace=True)\n",
        "merged_data.drop(columns=['is_real_estate_post'], inplace=True)\n",
        "merged_data.reset_index(drop=True, inplace=True)"
      ]
    },
    {
      "cell_type": "markdown",
      "metadata": {
        "id": "tXKQtynUn-i9"
      },
      "source": [
        "##### **Xóa các bài đăng không nằm trong phân loại bất động sản về Nhà (dùng cột category)**"
      ]
    },
    {
      "cell_type": "markdown",
      "metadata": {
        "id": "DCmCvh_4Y9zE"
      },
      "source": [
        "Vì ban đầu khi xác định chỉ xét đến Bất động sản nằm trong mục phân loại Nhà, nên ta chỉ chọn ra những dòng có phân loại thuộc nhóm Nhà. Với nhóm Nhà, các thuộc tính được trích xuất từ mục mô tả: alleyway_property, has_rooftop,... là phù hợp\\\n",
        "<img src=\"https://github.com/KhiemDangLe/Final-Project/blob/preprocessing/image/image_for_craw_data/phan_loai_bat_dong_san_co_san.png?raw=true\" width=\"100\"/>"
      ]
    },
    {
      "cell_type": "code",
      "execution_count": 11,
      "metadata": {
        "colab": {
          "base_uri": "https://localhost:8080/"
        },
        "id": "2sbgcTyV44U6",
        "outputId": "5f91b1d4-e598-4972-d110-9faaf0d5e2f3"
      },
      "outputs": [
        {
          "data": {
            "text/plain": [
              "(6919, 28)"
            ]
          },
          "execution_count": 11,
          "metadata": {},
          "output_type": "execute_result"
        }
      ],
      "source": [
        "merged_data = merged_data[merged_data['category'].isin(['Nhà riêng', 'Nhà', 'Nhà măt phố', 'Nhà cổ', 'Luxury home'])]\n",
        "merged_data.reset_index(drop=True, inplace=True)\n",
        "merged_data.shape"
      ]
    },
    {
      "cell_type": "markdown",
      "metadata": {
        "id": "6ye87NEoGLxR"
      },
      "source": [
        "##### **Xóa hàng trùng lặp**"
      ]
    },
    {
      "cell_type": "code",
      "execution_count": 12,
      "metadata": {
        "id": "pziSRlWfGO_D"
      },
      "outputs": [],
      "source": [
        "merged_data.drop_duplicates(inplace=True)\n",
        "merged_data.reset_index(drop=True, inplace=True)"
      ]
    },
    {
      "cell_type": "markdown",
      "metadata": {
        "id": "liFmwmd429GI"
      },
      "source": [
        "## **Sử dụng dữ liệu trích xuất từ mô tả điền vào dữ liệu bị thiếu**\n",
        "Các thuộc tính: giá, diện tích, số phòng ngủ, số phòng vệ sinh, hướng nhà, hướng ban công là những thuộc tính nằm trong mục cố định. Những thuộc tính này đã được trích xuất trong quá trình Crawl website theo từng bài đăng. Tuy nhiên, có những trường hợp, các thuộc tính cố định không xuất hiện; nhưng người đăng tin có đề cập trong mô tả bài viết. Do đó, ta có thể sử dụng dữ liệu từ mô tả để điền vào các mục dữ liệu cố định bị thiếu. \\\n",
        "Cần lưu ý rằng, dùng mô hình LLM trích xuất dữ liệu có thể nhận được dữ liệu sai lệch. Do đó, ban đầu, ta cần so sánh các cột area_LLM, bedroom_LLM, wc_LLM (những cột dùng LLM trích xuất từ mô tả bài đăng) với các cột area, bedroom, wc (những cột chứa các thuộc tính cố định).\n",
        "<img src=\"https://github.com/KhiemDangLe/Final-Project/blob/main/image/image_for_craw_data/thuoc_tinh_co_dinh_bi_thieu.png?raw=true\" width = 700/>"
      ]
    },
    {
      "cell_type": "code",
      "execution_count": 13,
      "metadata": {
        "colab": {
          "base_uri": "https://localhost:8080/"
        },
        "id": "OroZBFQe71iM",
        "outputId": "3f17e630-4dca-4d57-88ea-93eb184dd3a2"
      },
      "outputs": [
        {
          "name": "stdout",
          "output_type": "stream",
          "text": [
            "<class 'pandas.core.frame.DataFrame'>\n",
            "RangeIndex: 6919 entries, 0 to 6918\n",
            "Data columns (total 6 columns):\n",
            " #   Column       Non-Null Count  Dtype  \n",
            "---  ------       --------------  -----  \n",
            " 0   area         6619 non-null   float64\n",
            " 1   bedroom      4596 non-null   float64\n",
            " 2   wc           4325 non-null   float64\n",
            " 3   area_LLM     6377 non-null   float64\n",
            " 4   bedroom_LLM  5302 non-null   float64\n",
            " 5   wc_LLM       4112 non-null   float64\n",
            "dtypes: float64(6)\n",
            "memory usage: 324.5 KB\n"
          ]
        }
      ],
      "source": [
        "merged_data[['area', 'bedroom', 'wc', 'area_LLM', 'bedroom_LLM', 'wc_LLM']].info()"
      ]
    },
    {
      "cell_type": "code",
      "execution_count": 14,
      "metadata": {
        "colab": {
          "base_uri": "https://localhost:8080/"
        },
        "id": "_J3st0GU9uuM",
        "outputId": "c9db4cfb-7f33-47a2-c8e2-fb2a8335b10c"
      },
      "outputs": [
        {
          "name": "stdout",
          "output_type": "stream",
          "text": [
            "Tỉ lệ thông tin diện tích trích xuất là đúng: 0.7847062684607811\n",
            "Tỉ lệ thông tin diện tích trích xuất là sai: 0.2152937315392189\n"
          ]
        }
      ],
      "source": [
        "count_true_area= 0\n",
        "count_false_area = 0\n",
        "count_comparison = 0\n",
        "\n",
        "for i in range(len(merged_data)):\n",
        "    if pd.notnull(merged_data['area'].iloc[i]) and pd.notnull(merged_data['area_LLM'].iloc[i]):\n",
        "        if merged_data['area'].iloc[i] == merged_data['area_LLM'].iloc[i]:\n",
        "            count_true_area += 1\n",
        "        else:\n",
        "            count_false_area += 1\n",
        "        count_comparison += 1\n",
        "\n",
        "if count_comparison > 0:\n",
        "    print(\"Tỉ lệ thông tin diện tích trích xuất là đúng:\", count_true_area / count_comparison)\n",
        "    print(\"Tỉ lệ thông tin diện tích trích xuất là sai:\", count_false_area / count_comparison)\n",
        "else:\n",
        "    print(\"Không có dữ liệu để so sánh.\")\n"
      ]
    },
    {
      "cell_type": "code",
      "execution_count": 15,
      "metadata": {
        "colab": {
          "base_uri": "https://localhost:8080/"
        },
        "id": "N2n9CufD7qxN",
        "outputId": "def6d352-9fcc-468e-8cbf-914a50ec30b2"
      },
      "outputs": [
        {
          "name": "stdout",
          "output_type": "stream",
          "text": [
            "Tỉ lệ thông tin phòng ngủ trích xuất là đúng: 0.9333161688980433\n",
            "Tỉ lệ thông tin phòng ngủ trích xuất là sai: 0.06668383110195675\n"
          ]
        }
      ],
      "source": [
        "count_true_bedroom = 0\n",
        "count_false_bedroom = 0\n",
        "count_comparison = 0\n",
        "\n",
        "for i in range(len(merged_data)):\n",
        "    if pd.notnull(merged_data['bedroom'].iloc[i]) and pd.notnull(merged_data['bedroom_LLM'].iloc[i]):\n",
        "        if merged_data['bedroom'].iloc[i] == merged_data['bedroom_LLM'].iloc[i]:\n",
        "            count_true_bedroom += 1\n",
        "        else:\n",
        "            count_false_bedroom += 1\n",
        "        count_comparison += 1\n",
        "\n",
        "if count_comparison > 0:\n",
        "    print(\"Tỉ lệ thông tin phòng ngủ trích xuất là đúng:\", count_true_bedroom / count_comparison)\n",
        "    print(\"Tỉ lệ thông tin phòng ngủ trích xuất là sai:\", count_false_bedroom / count_comparison)\n",
        "else:\n",
        "    print(\"Không có dữ liệu để so sánh.\")\n"
      ]
    },
    {
      "cell_type": "code",
      "execution_count": 16,
      "metadata": {
        "colab": {
          "base_uri": "https://localhost:8080/"
        },
        "id": "Oat8DXSI7sNt",
        "outputId": "1001dd11-1e6b-4961-ca4a-b3e72da2d45e"
      },
      "outputs": [
        {
          "name": "stdout",
          "output_type": "stream",
          "text": [
            "Tỉ lệ thông tin phòng wc trích xuất là sai: 0.8900697442710063\n",
            "Tỉ lệ thông tin phòng wc trích xuất là sai: 0.10993025572899369\n"
          ]
        }
      ],
      "source": [
        "count_true_wc = 0\n",
        "count_false_wc = 0\n",
        "count_comparison = 0\n",
        "\n",
        "for i in range(len(merged_data)):\n",
        "    if pd.notnull(merged_data['wc'].iloc[i]) and pd.notnull(merged_data['wc_LLM'].iloc[i]):\n",
        "        if merged_data['wc'].iloc[i] == merged_data['wc_LLM'].iloc[i]:\n",
        "            count_true_wc += 1\n",
        "        else:\n",
        "            count_false_wc += 1\n",
        "        count_comparison += 1\n",
        "\n",
        "if count_comparison > 0:\n",
        "    print(\"Tỉ lệ thông tin phòng wc trích xuất là sai:\", count_true_wc / count_comparison)\n",
        "    print(\"Tỉ lệ thông tin phòng wc trích xuất là sai:\", count_false_wc / count_comparison)\n",
        "else:\n",
        "    print(\"Không có dữ liệu để so sánh.\")\n"
      ]
    },
    {
      "cell_type": "markdown",
      "metadata": {
        "id": "lLatA2iT-j3q"
      },
      "source": [
        "Ta thấy tỉ lệ thông tin trích xuất đúng là cao ~ 80% đối với diện tích, rất cao ~90% đối với 2 cột còn lại. Ta dùng dữ liệu trích xuất để điền vào dữ liệu bị thiếu. Riêng cột area, không có dữ liệu bị thiếu."
      ]
    },
    {
      "cell_type": "code",
      "execution_count": 17,
      "metadata": {
        "id": "N0md3vwa-xRS"
      },
      "outputs": [],
      "source": [
        "merged_data['area'].fillna(merged_data['area_LLM'], inplace=True)\n",
        "merged_data['bedroom'].fillna(merged_data['bedroom_LLM'], inplace=True)\n",
        "merged_data['wc'].fillna(merged_data['wc_LLM'], inplace=True)\n",
        "merged_data.drop(columns=['area_LLM', 'bedroom_LLM', 'wc_LLM'], inplace=True)\n",
        "merged_data.reset_index(drop = True, inplace = True)\n"
      ]
    },
    {
      "cell_type": "markdown",
      "metadata": {
        "id": "fZg0EeTPF3g4"
      },
      "source": [
        "## **Kiểm tra, xử lý các cột định lượng**"
      ]
    },
    {
      "cell_type": "markdown",
      "metadata": {
        "id": "ik5JlCMvGkR5"
      },
      "source": [
        "### **Tổng quát các cột định lượng**"
      ]
    },
    {
      "cell_type": "code",
      "execution_count": 18,
      "metadata": {
        "colab": {
          "base_uri": "https://localhost:8080/"
        },
        "id": "bEAPO5-MHntM",
        "outputId": "33d02409-2ff2-4c68-b025-190416407d56"
      },
      "outputs": [
        {
          "name": "stdout",
          "output_type": "stream",
          "text": [
            "<class 'pandas.core.frame.DataFrame'>\n",
            "RangeIndex: 6919 entries, 0 to 6918\n",
            "Data columns (total 25 columns):\n",
            " #   Column               Non-Null Count  Dtype  \n",
            "---  ------               --------------  -----  \n",
            " 0   page_link            6919 non-null   object \n",
            " 1   title                6919 non-null   object \n",
            " 2   article_id           6919 non-null   float64\n",
            " 3   category             6919 non-null   object \n",
            " 4   phone                6918 non-null   float64\n",
            " 5   district             6919 non-null   object \n",
            " 6   date_posted          6919 non-null   object \n",
            " 7   area                 6902 non-null   float64\n",
            " 8   bedroom              6014 non-null   float64\n",
            " 9   wc                   5426 non-null   float64\n",
            " 10  direction            719 non-null    object \n",
            " 11  balcony_direction    318 non-null    object \n",
            " 12  description          6919 non-null   object \n",
            " 13  total_room_LLm       3501 non-null   float64\n",
            " 14  count_conveniences   6919 non-null   int64  \n",
            " 15  alleyway_property    5843 non-null   float64\n",
            " 16  under_mortgage       1173 non-null   float64\n",
            " 17  residential_purpose  2876 non-null   float64\n",
            " 18  furnished            1756 non-null   float64\n",
            " 19  has_lowerlevel       1780 non-null   float64\n",
            " 20  has_rooftop          2461 non-null   float64\n",
            " 21  numbers_of_floors    6430 non-null   float64\n",
            " 22  street_name          6491 non-null   object \n",
            " 23  price                6919 non-null   float64\n",
            " 24  price_per_m2         6619 non-null   float64\n",
            "dtypes: float64(15), int64(1), object(9)\n",
            "memory usage: 1.3+ MB\n"
          ]
        }
      ],
      "source": [
        "merged_data.info()"
      ]
    },
    {
      "cell_type": "code",
      "execution_count": 19,
      "metadata": {
        "colab": {
          "base_uri": "https://localhost:8080/"
        },
        "id": "gSDT2jHaGnlu",
        "outputId": "42609571-8e2c-4de4-d365-004ed0c67b20"
      },
      "outputs": [
        {
          "name": "stdout",
          "output_type": "stream",
          "text": [
            "**area**\n",
            "Min: 2.0\n",
            "Q1: 44.0\n",
            "Q2: 56.0\n",
            "Q3: 77.0\n",
            "Max: 32825.0\n",
            "Số dữ liệu bị thiếu so với tổng: 17 / 6919\n",
            "Độ lệch: 73.30232781389363\n",
            "\n",
            "**bedroom**\n",
            "Min: 1.0\n",
            "Q1: 2.0\n",
            "Q2: 3.0\n",
            "Q3: 4.0\n",
            "Max: 118.0\n",
            "Số dữ liệu bị thiếu so với tổng: 905 / 6919\n",
            "Độ lệch: 15.258206364427322\n",
            "\n",
            "**wc**\n",
            "Min: 1.0\n",
            "Q1: 2.0\n",
            "Q2: 3.0\n",
            "Q3: 4.0\n",
            "Max: 111.0\n",
            "Số dữ liệu bị thiếu so với tổng: 1493 / 6919\n",
            "Độ lệch: 15.017751072595317\n",
            "\n",
            "**total_room_LLm**\n",
            "Min: 1.0\n",
            "Q1: 3.0\n",
            "Q2: 4.0\n",
            "Q3: 5.0\n",
            "Max: 50.0\n",
            "Số dữ liệu bị thiếu so với tổng: 3418 / 6919\n",
            "Độ lệch: 5.972899079261609\n",
            "\n",
            "**count_conveniences**\n",
            "Min: 0\n",
            "Q1: 0.0\n",
            "Q2: 1.0\n",
            "Q3: 3.0\n",
            "Max: 14\n",
            "Số dữ liệu bị thiếu so với tổng: 0 / 6919\n",
            "Độ lệch: 1.0489905920337683\n",
            "\n",
            "**numbers_of_floors**\n",
            "Min: 0.0\n",
            "Q1: 2.0\n",
            "Q2: 2.0\n",
            "Q3: 3.0\n",
            "Max: 12.0\n",
            "Số dữ liệu bị thiếu so với tổng: 489 / 6919\n",
            "Độ lệch: 0.8198769855567749\n",
            "\n",
            "**price**\n",
            "Min: 1550000.0\n",
            "Q1: 3900000000.0\n",
            "Q2: 5450000000.0\n",
            "Q3: 7800000000.0\n",
            "Max: 9990000000000.0\n",
            "Số dữ liệu bị thiếu so với tổng: 0 / 6919\n",
            "Độ lệch: 11.88074377794937\n",
            "\n",
            "**price_per_m2**\n",
            "Min: 12234.04255319149\n",
            "Q1: 70000000.0\n",
            "Q2: 97727272.72727272\n",
            "Q3: 130330086.58008656\n",
            "Max: 182352941176.47055\n",
            "Số dữ liệu bị thiếu so với tổng: 300 / 6919\n",
            "Độ lệch: 11.141927197564453\n",
            "\n"
          ]
        }
      ],
      "source": [
        "import numpy as np\n",
        "\n",
        "quantitative_columns = ['area', 'bedroom', 'wc', 'total_room_LLm', 'count_conveniences', 'numbers_of_floors', 'price', 'price_per_m2']\n",
        "\n",
        "for column in quantitative_columns:\n",
        "  print(f\"**{column}**\")\n",
        "  print(f\"Min: {merged_data[column].min()}\")\n",
        "  print(f\"Q1: {np.nanpercentile(merged_data[column], 25)}\")\n",
        "  print(f\"Q2: {np.nanpercentile(merged_data[column], 50)}\")\n",
        "  print(f\"Q3: {np.nanpercentile(merged_data[column], 75)}\")\n",
        "  print(f\"Max: {merged_data[column].max()}\")\n",
        "  print(f\"Số dữ liệu bị thiếu so với tổng: {merged_data[column].isnull().sum()} / {merged_data.shape[0]}\")\n",
        "  print(f\"Độ lệch: {merged_data[column].skew()}\")\n",
        "  print()\n",
        "\n"
      ]
    },
    {
      "cell_type": "code",
      "execution_count": null,
      "metadata": {
        "colab": {
          "base_uri": "https://localhost:8080/",
          "height": 1000
        },
        "id": "Hi5VVMOSPsjQ",
        "outputId": "1fe83aec-ed39-4b1f-c3df-0e38d4979340"
      },
      "outputs": [
        {
          "data": {
            "image/png": "[encoded data removed]",
            "text/plain": [
              "<Figure size 800x400 with 2 Axes>"
            ]
          },
          "metadata": {},
          "output_type": "display_data"
        },
        {
          "data": {
            "image/png": "[encoded data removed]",
            "text/plain": [
              "<Figure size 800x400 with 2 Axes>"
            ]
          },
          "metadata": {},
          "output_type": "display_data"
        },
        {
          "data": {
            "image/png": "[encoded data removed]",
            "text/plain": [
              "<Figure size 800x400 with 2 Axes>"
            ]
          },
          "metadata": {},
          "output_type": "display_data"
        },
        {
          "data": {
            "image/png": "[encoded data removed]",
            "text/plain": [
              "<Figure size 800x400 with 2 Axes>"
            ]
          },
          "metadata": {},
          "output_type": "display_data"
        },
        {
          "data": {
            "image/png": "[encoded data removed]",
            "text/plain": [
              "<Figure size 800x400 with 2 Axes>"
            ]
          },
          "metadata": {},
          "output_type": "display_data"
        },
        {
          "data": {
            "image/png": "[encoded data removed]",
            "text/plain": [
              "<Figure size 800x400 with 2 Axes>"
            ]
          },
          "metadata": {},
          "output_type": "display_data"
        },
        {
          "data": {
            "image/png": "[encoded data removed]",
            "text/plain": [
              "<Figure size 800x400 with 2 Axes>"
            ]
          },
          "metadata": {},
          "output_type": "display_data"
        }
      ],
      "source": [
        "import matplotlib.pyplot as plt\n",
        "import seaborn as sns\n",
        "\n",
        "for column in quantitative_columns:\n",
        "    fig, axes = plt.subplots(1, 2, figsize=(8, 4))\n",
        "\n",
        "    # Boxplot\n",
        "    sns.boxplot(x=merged_data[column], ax=axes[0])\n",
        "    axes[0].set_title(f'Boxplot {column}')\n",
        "    # Density plot\n",
        "    sns.kdeplot(merged_data[column], ax=axes[1]) # Changed index to 1\n",
        "    axes[1].set_title(f'Density Plot {column}') # Changed index to 1\n",
        "\n",
        "    fig.suptitle(column)\n",
        "    plt.tight_layout()\n",
        "    plt.show()\n",
        "\n"
      ]
    },
    {
      "cell_type": "markdown",
      "metadata": {
        "id": "WfMXfxHtNUlL"
      },
      "source": [
        "### **Xử lý cột price_per_m2**"
      ]
    },
    {
      "cell_type": "markdown",
      "metadata": {
        "id": "tuLAkc0SNrBu"
      },
      "source": [
        "Kiểm tra tổng số dòng tồn tại dữ liệu ở cột price, area, nhưng không tồn tại dữ liệu ở cột price_per_m2"
      ]
    },
    {
      "cell_type": "code",
      "execution_count": null,
      "metadata": {
        "id": "Imy_ahARNfoK"
      },
      "outputs": [],
      "source": [
        "count = 0\n",
        "for i in range(len(merged_data)):\n",
        "    if pd.notnull(merged_data['price'].iloc[i]) and pd.notnull(merged_data['area'].iloc[i]) and pd.isnull(merged_data['price_per_m2'].iloc[i]):\n",
        "        count += 1\n",
        "print(\"Số hàng: \", count)"
      ]
    },
    {
      "cell_type": "markdown",
      "metadata": {
        "id": "xh9RTCrCOSNF"
      },
      "source": [
        "Điền các dòng có giá trị price_per_m2 bị tính thiếu"
      ]
    },
    {
      "cell_type": "code",
      "execution_count": null,
      "metadata": {
        "id": "16m-FHBBOX6I"
      },
      "outputs": [],
      "source": [
        "for i in range(len(merged_data)):\n",
        "    if pd.notnull(merged_data['price'].iloc[i]) and pd.notnull(merged_data['area'].iloc[i]) and pd.isnull(merged_data['price_per_m2'].iloc[i]):\n",
        "        merged_data['price_per_m2'].iloc[i] = merged_data['price'].iloc[i] / merged_data['area'].iloc[i]"
      ]
    },
    {
      "cell_type": "markdown",
      "metadata": {
        "id": "r3Uxp5L7Oxeh"
      },
      "source": [
        "### **Xử lý giá trị ngoại lai**"
      ]
    },
    {
      "cell_type": "markdown",
      "metadata": {
        "id": "y7e-NMn7R4R7"
      },
      "source": [
        "| Phương pháp loại bỏ | Mô tả | Điểm lợi | Điểm hại |\n",
        "|---|---|---|---|\n",
        "| **Loại bỏ theo quy tắc 3 sigma** | Loại bỏ các giá trị nằm ngoài khoảng [trung bình - 3*độ lệch chuẩn, trung bình + 3*độ lệch chuẩn] | - Dễ thực hiện, phổ biến | - Phù hợp với dữ liệu phân phối chuẩn, không hiệu quả với dữ liệu không phân phối chuẩn |\n",
        "| **Loại bỏ theo IQR** | Loại bỏ các giá trị nằm ngoài khoảng [Q1 - 1.5*IQR, Q3 + 1.5*IQR] (Q1: tứ phân vị thứ nhất, Q3: tứ phân vị thứ ba, IQR: khoảng tứ phân vị) | - Phù hợp với dữ liệu không phân phối chuẩn | - Có thể loại bỏ quá nhiều dữ liệu, đặc biệt khi dữ liệu có nhiều outlier |\n",
        "| **Loại bỏ theo giá trị cực trị** | Loại bỏ các giá trị lớn nhất hoặc nhỏ nhất | - Dễ thực hiện, phù hợp với dữ liệu có outlier rõ ràng | - Không chính xác, có thể loại bỏ dữ liệu có giá trị hợp lệ |\n",
        "| **Loại bỏ theo phân tích cụm** | Phân chia dữ liệu thành các cụm, loại bỏ các giá trị nằm trong cụm có outlier | - Phù hợp với dữ liệu có nhiều outlier, có thể xác định được outlier theo cụm | - Phức tạp, cần có kiến thức về phân tích cụm |\n",
        "| **Thay thế outlier** | Thay thế outlier bằng giá trị trung bình, trung vị, hoặc giá trị ngoại suy | - Giữ nguyên số lượng dữ liệu | - Có thể làm giảm độ chính xác của mô hình |\n",
        "| **Không loại bỏ outlier** | Giữ nguyên outlier trong dữ liệu | - Giữ nguyên thông tin ban đầu | - Có thể ảnh hưởng đến kết quả phân tích |"
      ]
    },
    {
      "cell_type": "markdown",
      "metadata": {
        "id": "FyliPTGPSNMo"
      },
      "source": [
        "Trong mục **Tổng quát các cột định lượng**, ngoại trừ các cột count_conviences và cột numbers_of_floors, các cột còn lại đều có phân phối lệch phải rất nặng. Sử dụng loại bỏ theo quy tắc 3 sigma không phù hợp vì không phải phân phối chuẩn. Do đó, ta sẽ thử dùng IQR để loại bỏ các giá trị ngoại lai. \\\n",
        "Tuy nhiên, riêng cột số tầng numbers_of_floors có chứa 2 khoảng giá trị ngoại lai: [0, 0] và [5, 12]. Dựa vào thực tế, những giá trị đó không phải là giá trị bất thường."
      ]
    },
    {
      "cell_type": "markdown",
      "metadata": {
        "id": "5LKp8pxjloZn"
      },
      "source": [
        "**Dùng IQR**"
      ]
    },
    {
      "cell_type": "code",
      "execution_count": null,
      "metadata": {
        "id": "hAvqmkhkYIHO"
      },
      "outputs": [],
      "source": [
        "import numpy as np\n",
        "import pandas as pd\n",
        "\n",
        "\n",
        "columns_with_outliers = ['area', 'price_per_m2', 'bedroom', 'wc', 'total_room_LLm', 'count_conveniences', 'price', 'price_per_m2']\n",
        "temp = merged_data.copy()\n",
        "print(temp.shape)\n",
        "for column in columns_with_outliers:\n",
        "    # Tính IQR\n",
        "    Q1 = np.nanpercentile(temp[column], 0.25)\n",
        "    Q3 = np.nanpercentile(temp[column], 0.75)\n",
        "    IQR = Q3 - Q1\n",
        "\n",
        "    # Tính khoảng giới hạn\n",
        "    lower_bound = Q1 - 1.5 * IQR\n",
        "    upper_bound = Q3 + 1.5 * IQR\n",
        "\n",
        "    # Loại bỏ các giá trị ngoại lai\n",
        "    null_filter = temp[column].isnull().values\n",
        "    outlier_filter = np.logical_and(temp[column] >= lower_bound, temp[column] <= upper_bound)\n",
        "    filter = np.logical_or(null_filter, outlier_filter)\n",
        "    temp = temp[filter]\n",
        "    print(temp.shape)\n"
      ]
    },
    {
      "cell_type": "markdown",
      "metadata": {
        "id": "FSKh6e2eiPhr"
      },
      "source": [
        "Ta thấy rằng nếu lọc hết tất cả outlier của các cột, dữ liệu thu được chỉ còn 1 dòng duy nhất. Ta cần kiểm tra lại các cột. Như trong kết quả trên, sau khi lọc giá trị ngoại lai của cột area, toàn bộ dữ liệu gần như bị lọc hết. Bắt buộc, ta phải xem xét từng thuộc tính và dùng hiểu biết về tính chất của thuộc tính đó để loại các giá trị ngoại lai"
      ]
    },
    {
      "cell_type": "markdown",
      "metadata": {
        "id": "nF2XckYOltpK"
      },
      "source": [
        "**Xử lý cột area**"
      ]
    },
    {
      "cell_type": "code",
      "execution_count": null,
      "metadata": {
        "id": "fGcwhTxPlwd-"
      },
      "outputs": [],
      "source": [
        "bins = [0,100, 150, 200, 500, 1000, 5000, merged_data['area'].max()]\n",
        "binned_counts = pd.cut(merged_data['area'], bins=bins).value_counts()\n",
        "print(binned_counts)"
      ]
    },
    {
      "cell_type": "markdown",
      "metadata": {
        "id": "DppAWKCxrUMM"
      },
      "source": [
        "Sau khi xem qua một số bài đăng có diện tích lớn và dựa vào hiểu biết của các thành viên trong nhóm, nhóm chỉ lấy ra những hàng có giá trị nhỏ hơn 150 m2. Đó là kích thước phổ biến của các ngôi nhà thông thường. \\\n",
        "Ví dụ về 1 bài đăng bán nhà có diện tích khá lớn, nhưng vẫn là một bài đăng hợp lệ: https://batdongsan.vn/ban-can-biet-thu-nghi-duong-san-vuon-tp-thu-duc-dt-dat-830m2-r256114"
      ]
    },
    {
      "cell_type": "code",
      "execution_count": null,
      "metadata": {
        "id": "EvB5uxFCsxn_"
      },
      "outputs": [],
      "source": [
        "merged_data.drop(index = merged_data[merged_data['area'] > 150].index, inplace=True)\n",
        "merged_data.reset_index(drop=True, inplace=True)"
      ]
    },
    {
      "cell_type": "markdown",
      "metadata": {
        "id": "klAubyC5tFVe"
      },
      "source": [
        "**Xử lý cột price**"
      ]
    },
    {
      "cell_type": "code",
      "execution_count": null,
      "metadata": {
        "id": "4ui3jEcqtJia"
      },
      "outputs": [],
      "source": [
        "bins = [0,1 ,5 , 7.5, 10, 25, 50, 100, 200, 500, 100000]\n",
        "\n",
        "# Chia khoảng theo đơn vị tỷ\n",
        "binned_counts = pd.cut(merged_data['price']/1000000000, bins=bins).value_counts()\n",
        "print(binned_counts)"
      ]
    },
    {
      "cell_type": "markdown",
      "metadata": {
        "id": "S3YkEB05vvD6"
      },
      "source": [
        "Xem các bài đăng trong đường dẫn sau: https://batdongsan.vn/ban-nha-thu-duc-ho-chi-minh-tren-30-ty \\\n",
        "Dựa vào hiểu biết của các thành viên trong nhóm, nhóm chỉ lấy ra những hàng có giá trị nhỏ hơn 10 tỷ. Đó là khoảng giá phù hợp cho một ngôi nhà phổ biến."
      ]
    },
    {
      "cell_type": "code",
      "execution_count": null,
      "metadata": {
        "id": "yjqOWde8wLxu"
      },
      "outputs": [],
      "source": [
        "merged_data.drop(index = merged_data[merged_data['price'] > 10000000000].index, inplace=True)\n",
        "merged_data.drop(index = merged_data[merged_data['price'] < 100000000].index, inplace = True)\n",
        "merged_data['price'] = merged_data['price']/1000000000\n",
        "merged_data.reset_index(drop=True, inplace=True)\n",
        "merged_data.shape"
      ]
    },
    {
      "cell_type": "markdown",
      "metadata": {
        "id": "hrGUWgTryAt7"
      },
      "source": [
        "**Kiểm tra các cột còn lại**"
      ]
    },
    {
      "cell_type": "code",
      "execution_count": null,
      "metadata": {
        "id": "qg3RplpOwri7"
      },
      "outputs": [],
      "source": [
        "for column in quantitative_columns:\n",
        "    fig, axes = plt.subplots(1, 2, figsize=(8, 4))\n",
        "\n",
        "    # Boxplot\n",
        "    sns.boxplot(x=merged_data[column], ax=axes[0])\n",
        "    axes[0].set_title(f'Boxplot {column}')\n",
        "    # Density plot\n",
        "    sns.kdeplot(merged_data[column], ax=axes[1]) # Changed index to 1\n",
        "    axes[1].set_title(f'Density Plot {column}') # Changed index to 1\n",
        "\n",
        "    fig.suptitle(column)\n",
        "    plt.tight_layout()\n",
        "    plt.show()\n"
      ]
    },
    {
      "cell_type": "markdown",
      "metadata": {
        "id": "lpfb5dfSyEqE"
      },
      "source": [
        "Đối với các cột bedroom, wc, total_room, count_conveniences là những cột đơn giản, ta có thể nhanh chóng chọn những giá trị cho chúng. Nếu sử dụng IQR cho những cột này cũng không phù hợp, vì phân bố dữ liệu bị lệch rất lớn. Cách xử lý tương tự hai cột trên."
      ]
    },
    {
      "cell_type": "code",
      "execution_count": null,
      "metadata": {
        "id": "j76Jzpd5zCLk"
      },
      "outputs": [],
      "source": [
        "bins = [0,3 ,5, 7, 10, merged_data['bedroom'].max()]\n",
        "binned_counts = pd.cut(merged_data['bedroom'], bins=bins).value_counts()\n",
        "print(binned_counts)"
      ]
    },
    {
      "cell_type": "code",
      "execution_count": null,
      "metadata": {
        "id": "KDHv_Yap0DbL"
      },
      "outputs": [],
      "source": [
        "bins = [0,3 ,5, 7, 10, merged_data['wc'].max()]\n",
        "binned_counts = pd.cut(merged_data['wc'], bins=bins).value_counts()\n",
        "print(binned_counts)"
      ]
    },
    {
      "cell_type": "code",
      "execution_count": null,
      "metadata": {
        "id": "ExdlKyq20JNe"
      },
      "outputs": [],
      "source": [
        "bins = [0,3 ,5, 7, 10, 15, merged_data['total_room_LLm'].max()]\n",
        "binned_counts = pd.cut(merged_data['total_room_LLm'], bins=bins).value_counts()\n",
        "print(binned_counts)"
      ]
    },
    {
      "cell_type": "code",
      "execution_count": null,
      "metadata": {
        "id": "2ZzgFHXqmW70"
      },
      "outputs": [],
      "source": [
        "bins = [0,3 ,5, 7, 10, merged_data['count_conveniences'].max()]\n",
        "binned_counts = pd.cut(merged_data['count_conveniences'], bins=bins).value_counts()\n",
        "print(binned_counts)"
      ]
    },
    {
      "cell_type": "markdown",
      "metadata": {
        "id": "aOIbIOaCmrxP"
      },
      "source": [
        "Ta sẽ loại bỏ các giá trị dựa vào các chỉ số đã chọn ở trên"
      ]
    },
    {
      "cell_type": "code",
      "execution_count": null,
      "metadata": {
        "id": "7JQUVOEg0Zyu"
      },
      "outputs": [],
      "source": [
        "merged_data.drop(index = merged_data[merged_data['bedroom'] > 7].index, inplace=True)\n",
        "merged_data.drop(index = merged_data[merged_data['wc'] > 7].index, inplace=True)\n",
        "merged_data.drop(index = merged_data[merged_data['total_room_LLm'] > 10].index, inplace=True)\n",
        "# Vi cac tien ich gan đó chỉ xét đến 7 tiện ích được liệt kê trong prompt nên ta chọn khoảng giá trị chấp nhận là 7 trở xuống\n",
        "merged_data.drop(index = merged_data[merged_data['count_conveniences'] > 7].index, inplace=True)\n",
        "merged_data.reset_index(drop=True, inplace=True)\n",
        "merged_data.shape"
      ]
    },
    {
      "cell_type": "markdown",
      "metadata": {
        "id": "yz812Tb2oFLM"
      },
      "source": [
        "### **Tổng quan các cột định lượng sau khi xử lý**"
      ]
    },
    {
      "cell_type": "code",
      "execution_count": null,
      "metadata": {
        "id": "4RrUnacGoMDP"
      },
      "outputs": [],
      "source": [
        "merged_data[quantitative_columns].info()"
      ]
    },
    {
      "cell_type": "code",
      "execution_count": null,
      "metadata": {
        "id": "vHz_kNsLmP9H"
      },
      "outputs": [],
      "source": [
        "for column in quantitative_columns:\n",
        "    fig, axes = plt.subplots(1, 2, figsize=(8, 4))\n",
        "\n",
        "    # Boxplot\n",
        "    sns.boxplot(x=merged_data[column], ax=axes[0])\n",
        "    axes[0].set_title(f'Boxplot {column}')\n",
        "    # Density plot\n",
        "    sns.kdeplot(merged_data[column], ax=axes[1]) # Changed index to 1\n",
        "    axes[1].set_title(f'Density Plot {column}') # Changed index to 1\n",
        "\n",
        "    fig.suptitle(column)\n",
        "    plt.tight_layout()\n",
        "    plt.show()\n"
      ]
    },
    {
      "cell_type": "markdown",
      "metadata": {
        "id": "D2BSTWZ1l_cH"
      },
      "source": [
        "## **Xử lý các cột định tính**"
      ]
    },
    {
      "cell_type": "markdown",
      "metadata": {
        "id": "MKFDiPetotUY"
      },
      "source": [
        "### **Tổng quan về các cột định tính**"
      ]
    },
    {
      "cell_type": "code",
      "execution_count": null,
      "metadata": {
        "id": "P8EqniV_pc1T"
      },
      "outputs": [],
      "source": [
        "merged_data.info()"
      ]
    },
    {
      "cell_type": "code",
      "execution_count": null,
      "metadata": {
        "id": "zfiJ1K6iosXb"
      },
      "outputs": [],
      "source": [
        "qualitative_columns = ['category', 'district', 'direction', 'balcony_direction', 'alleyway_property', 'under_mortgage', 'residential_purpose', 'furnished', 'has_lowerlevel', 'has_rooftop']\n",
        "\n",
        "for column in qualitative_columns:\n",
        "    print(f\"**{column}**\")\n",
        "    print(f\"Số giá trị bị thiếu: {merged_data[column].isna().sum()} (={merged_data[column].isna().sum()/merged_data.shape[0] * 100:.2f}%)\")\n",
        "    print(f\"Số giá trị khác nhau: {merged_data[column].nunique()}\")\n",
        "    print(f\"Giá trị phổ biến nhất: {merged_data[column].value_counts().index[0]}\")\n",
        "    print(f\"Tỉ lệ giá trị phổ biến nhất: {merged_data[column].value_counts().values[0] / merged_data.shape[0] * 100:.2f}%\")\n"
      ]
    },
    {
      "cell_type": "markdown",
      "metadata": {
        "id": "wWncOX3UrSbp"
      },
      "source": [
        "**Tần suất xuất hiện của các giá trị**"
      ]
    },
    {
      "cell_type": "code",
      "execution_count": null,
      "metadata": {
        "id": "EE0dmCYurbRL"
      },
      "outputs": [],
      "source": [
        "for column in qualitative_columns:\n",
        "    print(f\"**{column}**\")\n",
        "    print(merged_data[column].value_counts(dropna = False))\n",
        "    print()"
      ]
    },
    {
      "cell_type": "markdown",
      "metadata": {
        "id": "Tpf1dHH3uDQv"
      },
      "source": [
        "### **Xử lý cột residential_purpose**"
      ]
    },
    {
      "cell_type": "markdown",
      "metadata": {
        "id": "Y39wsdaMvE0f"
      },
      "source": [
        "Cột residential_purpose nhằm xác định các ngôi nhà được xây dựng trên đất hợp pháp cho nhu cầu ở (còn gọi là đất thổ cư), có 2 giá trị là: 1 -> xác định là hợp pháp, 0 -> xác định là không hợp pháp. Trong cột đó, có tổng cộng 2445 giá trị 1, 3267 giá trị bị thiếu, không tồn tại giá trị 0. Như vậy, trong trường hợp này cột residential_purpose không có ý nghĩa."
      ]
    },
    {
      "cell_type": "code",
      "execution_count": null,
      "metadata": {
        "id": "L8o7wYlMv0SV"
      },
      "outputs": [],
      "source": [
        "merged_data.drop(columns=['residential_purpose'], inplace=True)"
      ]
    },
    {
      "cell_type": "markdown",
      "metadata": {
        "id": "mEvgpAk1v7Ju"
      },
      "source": [
        "## **Các cột còn lại**"
      ]
    },
    {
      "cell_type": "code",
      "execution_count": null,
      "metadata": {
        "id": "R3VdDnTiwAmQ"
      },
      "outputs": [],
      "source": [
        "useless_columns = ['page_link', 'title', 'description']\n",
        "merged_data.drop(columns=useless_columns, inplace=True)"
      ]
    },
    {
      "cell_type": "markdown",
      "metadata": {
        "id": "IKejLID82qjI"
      },
      "source": [
        "**Thay đổi kiểu của cột article_id**"
      ]
    },
    {
      "cell_type": "code",
      "execution_count": null,
      "metadata": {
        "id": "NKdtrmepFYxp"
      },
      "outputs": [],
      "source": [
        "import numpy as np\n",
        "# sử dụng format_float_positional\n",
        "for i in range(len(merged_data['article_id'])):\n",
        "    merged_data.loc[i, 'article_id'] = np.format_float_positional(merged_data.loc[i, 'article_id'], trim='-')\n",
        "merged_data['article_id'] = merged_data['article_id'].astype(str)"
      ]
    },
    {
      "cell_type": "markdown",
      "metadata": {
        "id": "CjxPA1262tVk"
      },
      "source": [
        "**Thay đổi kiểu cột date_posted**"
      ]
    },
    {
      "cell_type": "markdown",
      "metadata": {
        "id": "NaZ-Kj5A4Ikx"
      },
      "source": [
        "Thuật toán chuyển đổi kiểu dữ liệu sang date-time nhanh hơn so với cách thông thường: https://stackoverflow.com/questions/29882573/pandas-slow-date-conversion"
      ]
    },
    {
      "cell_type": "code",
      "execution_count": null,
      "metadata": {
        "id": "l3xE9MUX225B"
      },
      "outputs": [],
      "source": [
        "def lookup(date_pd_series, format=None):\n",
        "    dates = {date:pd.to_datetime(date, format=format) for date in date_pd_series.unique()}\n",
        "    return date_pd_series.map(dates)\n",
        "merged_data['date_posted'] = lookup(merged_data['date_posted'], format='%Y-%m-%d')"
      ]
    },
    {
      "cell_type": "markdown",
      "metadata": {
        "id": "KmtEiIKFweWI"
      },
      "source": [
        "# **Kết quả**"
      ]
    },
    {
      "cell_type": "code",
      "execution_count": null,
      "metadata": {
        "id": "R3JzAXgswhBO"
      },
      "outputs": [],
      "source": [
        "merged_data.info()"
      ]
    },
    {
      "cell_type": "code",
      "execution_count": null,
      "metadata": {
        "id": "-CTgLr-39YJ5"
      },
      "outputs": [],
      "source": [
        "merged_data.to_csv('merged_data.csv', index=False)"
      ]
    },
    {
      "cell_type": "markdown",
      "metadata": {
        "id": "jQCN-H5lwqcv"
      },
      "source": [
        "### **Lưu ý khi sử dụng dữ liệu đã xử lý ở giai đoạn sau của đồ án**\n",
        "Như đề cập ở đầu bài viết, giai đoạn sau của đồ án xử dụng nhiều loại mô hình khác nhau. Có một số mô hình có thể xử lý dữ liệu phân loại, dữ liệu bị thiếu nên các bước xử lý 2 trường hợp đó không được trình bày trong bài viết này. \\\n",
        " Ví dụ, cột direction và cột balcony_direction là cột có chứa rất nhiều dữ liệu bị thiếu. Chúng có thể không phù hợp với mô hình hồi quy tuyến tính. Còn đối với các mô hình dựa trên cây, ta có thể xem các dữ liệu bị thiếu thành một nhóm độc lập, có thể vẫn phù hợp với các mô hình đó."
      ]
    },
    {
      "cell_type": "markdown",
      "metadata": {
        "id": "qIjIpNdThvKL"
      },
      "source": [
        "**Một số phương pháp xử lý dữ liệu bị thiếu** \\\n",
        "\n",
        "| Phương pháp | Mô tả | Ưu điểm | Nhược điểm |\n",
        "| --- | --- | --- | --- |\n",
        "| **Loại bỏ quan sát có giá trị bị thiếu** | Loại bỏ hoàn toàn các quan sát có một hoặc nhiều giá trị bị thiếu | - Đơn giản và dễ thực hiện <br> - Không ảnh hưởng đến mối quan hệ giữa các biến | - Có thể mất nhiều thông tin quan trọng <br> - Có thể dẫn đến sai lệch kết quả nếu dữ liệu bị thiếu không ngẫu nhiên |\n",
        "| **Điền giá trị phổ biến nhất** | Thay thế giá trị bị thiếu bằng giá trị phổ biến nhất của biến đó | - Dễ thực hiện <br> - Dữ liệu được giữ nguyên | - Không tính đến sự liên kết giữa các biến <br> - Có thể dẫn đến sai lệch kết quả nếu dữ liệu bị thiếu có cấu trúc |\n",
        "| **Điền giá trị dựa trên hồi quy** | Sử dụng mô hình hồi quy để dự đoán giá trị bị thiếu dựa trên các biến khác | - Tính đến mối liên hệ giữa các biến <br> - Dự đoán giá trị dựa trên quy luật chung | - Yêu cầu chất lượng dữ liệu tốt <br> - Phức tạp hơn so với các phương pháp khác |\n",
        "| **Điền giá trị dựa trên khoảng cách** | Tìm quan sát tương tự nhất và sử dụng giá trị của nó để điền vào giá trị bị thiếu | - Đơn giản và dễ hiểu <br> - Có thể áp dụng cho các biến định tính | - Chỉ sử dụng được cho các biến định tính <br> - Không tính đến sự liên kết giữa các biến |\n",
        "| **Sử dụng mô hình máy học** | Huấn luyện mô hình máy học trên dữ liệu đầy đủ, sau đó sử dụng mô hình này để dự đoán giá trị bị thiếu | - Tính đến mối liên hệ phức tạp giữa các biến <br> - Có thể xử lý nhiều kiểu dữ liệu khác nhau | - Yêu cầu chất lượng và lượng dữ liệu tốt <br> - Phức tạp về mặt tính toán |"
      ]
    },
    {
      "cell_type": "markdown",
      "metadata": {
        "id": "FAC5PgPQyAc0"
      },
      "source": [
        "# **Phân tích khám phá dữ liệu**"
      ]
    },
    {
      "cell_type": "markdown",
      "metadata": {
        "id": "8tnhhWeq0Cy9"
      },
      "source": [
        "## **Phân tích khám phá dữ liệu chỉ một thuộc tính**"
      ]
    },
    {
      "cell_type": "markdown",
      "metadata": {
        "id": "SxXu7HWt3WLa"
      },
      "source": [
        "### **Cột diện tích**"
      ]
    },
    {
      "cell_type": "code",
      "execution_count": null,
      "metadata": {
        "id": "X6-tlpJ73ZTR"
      },
      "outputs": [],
      "source": [
        "import seaborn as sns\n",
        "import matplotlib.pyplot as plt\n",
        "\n",
        "sns.displot(merged_data['area'])\n",
        "plt.title('Phân bố diện tích')\n",
        "plt.xlabel('Diện tích')\n",
        "plt.ylabel('Số lượng')\n",
        "plt.grid()\n",
        "plt.show()"
      ]
    },
    {
      "cell_type": "markdown",
      "metadata": {
        "id": "x3oCj_5D3fQ2"
      },
      "source": [
        "Diện tích phổ biến của nhà ở TP. HCM là từ 30 -> 80 m2"
      ]
    },
    {
      "cell_type": "markdown",
      "metadata": {
        "id": "shYsvo3m3tdw"
      },
      "source": [
        "### **Cột category**"
      ]
    },
    {
      "cell_type": "code",
      "execution_count": null,
      "metadata": {
        "id": "3YrcutZQ3w0_"
      },
      "outputs": [],
      "source": [
        "merged_data.groupby('category')['price'].mean().sort_values(ascending=False).plot(kind='barh')\n",
        "plt.title('Loại nhà theo giá')\n",
        "plt.xlabel('Loại nhà')\n",
        "plt.ylabel('Giá nhà')\n",
        "plt.grid()\n",
        "plt.show()"
      ]
    },
    {
      "cell_type": "markdown",
      "metadata": {
        "id": "9nxkzjfo1dMb"
      },
      "source": [
        "### **Cột district**"
      ]
    },
    {
      "cell_type": "code",
      "execution_count": null,
      "metadata": {
        "id": "wNCDDbmPzf2P"
      },
      "outputs": [],
      "source": [
        "district_freq = merged_data['district'].value_counts().sort_values(ascending=True)\n",
        "plt.subplots(figsize=(10,6))\n",
        "plt.bar(district_freq .index, district_freq.values)\n",
        "plt.title('Đếm theo quận')\n",
        "plt.xticks(rotation=90)\n",
        "plt.xlabel('Quận')\n",
        "plt.ylabel('Số lần xuất hiện')\n",
        "plt.grid()\n",
        "plt.show()"
      ]
    },
    {
      "cell_type": "markdown",
      "metadata": {
        "id": "3mDvKuz91g67"
      },
      "source": [
        "### **Cột numbers_of_floors**"
      ]
    },
    {
      "cell_type": "code",
      "execution_count": null,
      "metadata": {
        "id": "ze0JEfSiCTSH"
      },
      "outputs": [],
      "source": [
        "numbers_of_floors = merged_data['numbers_of_floors'].value_counts()\n",
        "numbers_of_floors_less_5 = numbers_of_floors[numbers_of_floors.index <=5].sort_index()\n",
        "numbers_of_floors_more_5 = numbers_of_floors[numbers_of_floors.index >5].sum()\n",
        "numbers_of_floors_less_5['>5'] = numbers_of_floors_more_5\n",
        "fig, ax = plt.subplots()\n",
        "ax.pie(numbers_of_floors_less_5, labels=numbers_of_floors_less_5.index,\n",
        "       colors=['olivedrab', 'rosybrown', 'gray', 'saddlebrown','blue','yellow','white'])\n",
        "ax.set_title('Numbers of Floors')\n",
        "\n",
        "plt.show()"
      ]
    },
    {
      "cell_type": "markdown",
      "metadata": {
        "id": "IIgUajUc1ldg"
      },
      "source": [
        "Đa số các nhà được đăng bán có số tầng là hai, ta thấy điều này hợp lí, vì ta thấy ở thành phố đa số các nhà đều có tầng, do có không gian xây dựng nhỏ, nên phải tối ưu chỗ ở bằng cách xây thêm tầng."
      ]
    },
    {
      "cell_type": "markdown",
      "metadata": {
        "id": "HeAxzrpS14Nz"
      },
      "source": [
        "### **Cột date-posted**"
      ]
    },
    {
      "cell_type": "code",
      "execution_count": null,
      "metadata": {
        "id": "gfM-Ywfn2Ivp"
      },
      "outputs": [],
      "source": [
        "day_counts =  merged_data['date_posted'].dt.day.value_counts()\n",
        "index = [i for i in range(1,32)]\n",
        "day_counts =  merged_data['date_posted'].dt.day.value_counts()\n",
        "plt.figure(figsize=(10, 6))\n",
        "plt.plot(index,day_counts.sort_index(), marker='o', linestyle='-', color='b')\n",
        "plt.title('Số lượng bài đăng tính theo ngày trong tháng')\n",
        "plt.xlabel('Ngày')\n",
        "plt.ylabel('Số lượng')\n",
        "plt.grid(True)\n",
        "plt.show()"
      ]
    },
    {
      "cell_type": "markdown",
      "metadata": {
        "id": "-FAwyV4D2K0X"
      },
      "source": [
        "Số lượng bài đăng biến động lên xuống trong các ngày của tháng."
      ]
    },
    {
      "cell_type": "markdown",
      "metadata": {
        "id": "j_CkZGWz2pD7"
      },
      "source": [
        "### **Cột phone**"
      ]
    },
    {
      "cell_type": "code",
      "execution_count": null,
      "metadata": {
        "id": "i7V0he-l2r0j"
      },
      "outputs": [],
      "source": [
        "plt.figure(figsize=(20,10))\n",
        "sns.barplot(merged_data['phone'].value_counts().head(10))\n",
        "plt.title('Top 10 số điện thoại có nhiều bài đăng nhất')\n",
        "plt.xlabel('Đếm')\n",
        "plt.ylabel('Số điện thoại')\n",
        "plt.grid()\n",
        "plt.show()"
      ]
    },
    {
      "cell_type": "markdown",
      "metadata": {
        "id": "dUAHuNQe--mo"
      },
      "source": [
        "Số điện thoại 984246489 có số bài đăng tin lớn nhất."
      ]
    },
    {
      "cell_type": "markdown",
      "metadata": {
        "id": "hfpoYAdm0KvE"
      },
      "source": [
        "## **Phân tích khám phá dữ liệu của mối quan hệ giữa 2 thuộc tính**"
      ]
    },
    {
      "cell_type": "markdown",
      "metadata": {
        "id": "_ok9LBEW1cvo"
      },
      "source": [
        "### **Trung bình giá nhà theo các đặc điểm nội thất, tầng hầm, sân thượng**"
      ]
    },
    {
      "cell_type": "code",
      "execution_count": null,
      "metadata": {
        "id": "7KDdGG824y65"
      },
      "outputs": [],
      "source": [
        "mean_price_by_furnished = merged_data.groupby('furnished')['price'].mean()\n",
        "mean_price_by_has_lowerlevel = merged_data.groupby('has_lowerlevel')['price'].mean()\n",
        "mean_price_by_has_rooftop = merged_data.groupby('has_rooftop')['price'].mean()\n",
        "\n",
        "fig, ax = plt.subplots(figsize=(13, 5), ncols = 3, nrows = 1)\n",
        "fig.suptitle(\"Giá trung bình theo nội thất có sẵn, có tầng hầm, có sân thượng\", family = 'serif', fontsize = 14)\n",
        "\n",
        "ax[0].spines[['right', 'top']].set_visible(False)\n",
        "ax[0].set_xlabel(\"Nội thất có sẵn?\", family = 'serif')\n",
        "ax[0].set_ylabel(\"Giá trung bình\", family = 'serif')\n",
        "ax[0].set_xticklabels([\"False\", \"True\"], fontfamily='serif')\n",
        "ax[0].bar([\"False\", \"True\"], mean_price_by_furnished.values, width=0.9, color = ['salmon', 'skyblue'])\n",
        "\n",
        "ax[1].spines[['right', 'top']].set_visible(False)\n",
        "ax[1].set_xlabel(\"Có tầng hầm?\", family = 'serif')\n",
        "ax[1].set_ylabel(\"Giá trung bình\", family = 'serif')\n",
        "ax[1].set_xticklabels([\"False\", \"True\"], fontfamily='serif')\n",
        "ax[1].bar([\"False\", \"True\"], mean_price_by_has_lowerlevel, width=0.9, color = ['salmon', 'skyblue'])\n",
        "\n",
        "ax[2].spines[['right', 'top']].set_visible(False)\n",
        "ax[2].set_xlabel(\"Có sân thượng?\", family = 'serif')\n",
        "ax[2].set_ylabel(\"Giá trung bình\", family = 'serif')\n",
        "ax[2].set_xticklabels([\"False\", \"True\"], fontfamily='serif')\n",
        "ax[2].bar([\"False\", \"True\"], mean_price_by_has_rooftop, width=0.9, color = ['salmon', 'skyblue'])\n"
      ]
    },
    {
      "cell_type": "markdown",
      "metadata": {
        "id": "KaD9mok24y28"
      },
      "source": [
        "Khi tính theo 3 đặc điểm là: Nội thất, tầng hầm, sân thượng; giá nhà trung bình của nhóm có đặc điểm ấy cao hơn so với giá trung bình không có đặc điểm ấy"
      ]
    },
    {
      "cell_type": "markdown",
      "metadata": {
        "id": "WMIkKM0Q4HWd"
      },
      "source": [
        "### **Diện tích trung bình theo quận**"
      ]
    },
    {
      "cell_type": "code",
      "execution_count": null,
      "metadata": {
        "id": "qWrCkcBe4NhH"
      },
      "outputs": [],
      "source": [
        "merged_data.groupby('district')['area'].mean().sort_values(ascending=False).plot(kind='barh')\n",
        "plt.title('Diện tích trung bình theo quận')\n",
        "plt.xlabel('Quận')\n",
        "plt.ylabel('Diện tích trung bình')\n",
        "plt.grid()\n",
        "plt.show()"
      ]
    },
    {
      "cell_type": "markdown",
      "metadata": {
        "id": "DfdNP8Ol0RE2"
      },
      "source": [
        "## **Phân tích khám phá dữ liệu của mối liên hệ giữa 3 thuộc tính**"
      ]
    },
    {
      "cell_type": "markdown",
      "metadata": {
        "id": "LURVOrMo50gr"
      },
      "source": [
        "### **Mối quan hệ giữa số tầng, giá trung bình, diện tích trung bình**"
      ]
    },
    {
      "cell_type": "code",
      "execution_count": null,
      "metadata": {
        "id": "p-DzgYMH6PRQ"
      },
      "outputs": [],
      "source": [
        "import matplotlib.pyplot as plt\n",
        "import numpy as np\n",
        "import pandas as pd\n",
        "\n",
        "mean_price_by_nof = merged_data.groupby(\"numbers_of_floors\")[\"price\"].mean()\n",
        "mean_area_by_nof = merged_data.groupby(\"numbers_of_floors\")[\"area\"].mean()\n",
        "\n",
        "fig, ax = plt.subplots(figsize=(12, 6))\n",
        "\n",
        "ax.spines[['right', 'top']].set_visible(False)\n",
        "ax.set_title(\"Mối quan hệ giữa tổng số tầng, giá trung bình, diện tích trung bình\", family='serif', fontsize=15)\n",
        "ax.set_xlabel(\"Tổng số tầng\", family='serif')\n",
        "ax.set_ylabel(\"Giá trung bình\", family='serif')\n",
        "\n",
        "\n",
        "norm = plt.Normalize(mean_area_by_nof.min(), mean_area_by_nof.max())\n",
        "colors = plt.cm.Pastel2(norm(mean_area_by_nof))\n",
        "\n",
        "\n",
        "sc = ax.scatter(mean_price_by_nof.index, mean_price_by_nof, alpha=1, s=mean_area_by_nof * 10, c=colors, label=\"Kích thước của điểm tròn: diện tích trung bình\")\n",
        "\n",
        "\n",
        "cbar = plt.colorbar(plt.cm.ScalarMappable(norm=norm, cmap=plt.cm.Pastel2), ax=ax)\n",
        "cbar.set_label('Diện tích trung bình', family='serif')\n",
        "\n",
        "\n",
        "ax.legend()\n",
        "plt.show()\n"
      ]
    },
    {
      "cell_type": "markdown",
      "metadata": {
        "id": "E6cWOmhN5bkJ"
      },
      "source": [
        "Khi chia nhà thành các nhóm theo tổng số tầng, diện tích trung bình giữa các nhóm có chênh lệch. Nhóm có tổng số tầng là từ 1 -> 5 có diện tích tương tự nhau. Nhóm có nhiều tầng hơn (6, 7 tầng) có diện tích trung bình cao hơn rất nhiều so với các nhóm còn lại. \\\n",
        "Giá nhà trung bình theo tổng số tầng không có mối quan hệ tuyến tính"
      ]
    },
    {
      "cell_type": "markdown",
      "metadata": {
        "id": "DjLJDzM_8GRQ"
      },
      "source": [
        "## **Tạo thang điểm đánh giá nhà**"
      ]
    },
    {
      "cell_type": "markdown",
      "metadata": {
        "id": "-Q5iZuBR9_X9"
      },
      "source": [
        "Tạo ra thang điểm đánh giá dựa vào các thuộc tính 'area', 'bedroom', 'bathroom', 'numbers_of_floors', 'has_rooftop'"
      ]
    },
    {
      "cell_type": "code",
      "execution_count": null,
      "metadata": {
        "id": "WSZd4yn29diQ"
      },
      "outputs": [],
      "source": [
        "from sklearn.preprocessing import MinMaxScaler\n",
        "data = merged_data.copy()\n",
        "scaler = MinMaxScaler()\n",
        "scaled_features = scaler.fit_transform(data[['area', 'bedroom', 'wc', 'numbers_of_floors', 'has_rooftop']])\n",
        "scaled_df = pd.DataFrame(scaled_features, columns=['area', 'bedroom', 'wc', 'numbers_of_floors', 'has_rooftop'])\n",
        "\n",
        "data['quality_of_house'] = scaled_df.mean(axis=1)\n",
        "data['quality_of_house']=data['quality_of_house'] *10\n",
        "\n",
        "avg_area = data.groupby('district')['area'].mean().reset_index()\n",
        "avg_price = data.groupby('district')['price'].mean().reset_index()\n",
        "\n",
        "\n",
        "plt.figure(figsize=(20, 6))\n",
        "sns.barplot(x='district', y='area', data=avg_area, color='b', alpha=0.6, label='Average Area')\n",
        "ax2 = plt.twinx()\n",
        "sns.lineplot(x='district', y='price', data=avg_price, marker='o', color='r', label='Average Price', ax=ax2)\n",
        "plt.title(' Trung bình của giá nhà và diện tích theo từng quận')\n",
        "plt.xlabel('Quận')\n",
        "ax2.set_ylabel('Giá nhà trung bình ' )\n",
        "plt.ylabel('Diện tích trung bình')\n",
        "plt.legend(loc='upper left')\n",
        "ax2.legend(loc='upper right')\n",
        "\n",
        "# Hiển thị biểu đồ\n",
        "plt.show()"
      ]
    },
    {
      "cell_type": "markdown",
      "metadata": {
        "id": "jGA50yJMCE19"
      },
      "source": [
        "Nhà ở quận 1 được bán với giá cao nhất nhưng diện tích thì lại nằm trong nhưng quận có diện tích nhà bán thấp nhất => để sở hữu 1 căn nhà ở quận 1 là điều không dễ"
      ]
    },
    {
      "cell_type": "code",
      "execution_count": null,
      "metadata": {
        "id": "BpBLlvGJBKGe"
      },
      "outputs": [],
      "source": [
        "sns.displot(data['quality_of_house'])\n",
        "plt.title('Phân bố quality_of_house')\n",
        "plt.xlabel('quality_of_house')\n",
        "plt.ylabel('Số lượng')\n",
        "plt.grid()\n",
        "plt.show()"
      ]
    },
    {
      "cell_type": "code",
      "execution_count": null,
      "metadata": {
        "id": "EsRmJyZEFVW_"
      },
      "outputs": [],
      "source": [
        "count=[]\n",
        "count.append(len(data[data['quality_of_house']>5]))\n",
        "count.append(len(data[data['quality_of_house']<=5]))\n",
        "colors = [ '#008000','#FFFF00']\n",
        "ax = sns.barplot(hue=['Good Quality', 'Bad Quality'], y=count, palette=colors)\n",
        "plt.xlabel('Points')\n",
        "plt.ylabel('Count')\n",
        "plt.title('Quality of House')\n",
        "plt.show()"
      ]
    },
    {
      "cell_type": "markdown",
      "metadata": {
        "id": "d4hnHQ8kG7of"
      },
      "source": [
        "Trên thang điểm 10 , không có nhiều ngôi nhà đạt chất lượng tốt dựa vào các tiêu chí 'area', 'bedroom', 'wc', 'numbers_of_floors', 'has_rooftop'. Số  lượng nhà chất lượng tốt là ít hơn nhiều so với chất lượng chưa tốt"
      ]
    }
  ],
  "metadata": {
    "colab": {
      "provenance": []
    },
    "kernelspec": {
      "display_name": "Python 3",
      "name": "python3"
    },
    "language_info": {
      "name": "python"
    }
  },
  "nbformat": 4,
  "nbformat_minor": 0
}
